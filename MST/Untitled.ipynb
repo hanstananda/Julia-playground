{
 "cells": [
  {
   "cell_type": "code",
   "execution_count": 34,
   "metadata": {},
   "outputs": [],
   "source": [
    "using CPUTime\n",
    "using DelimitedFiles\n",
    "using Distributed\n",
    "using Base\n",
    "using DataStructures\n",
    "using SharedArrays"
   ]
  },
  {
   "cell_type": "code",
   "execution_count": 36,
   "metadata": {},
   "outputs": [],
   "source": [
    "numVertex=4\n",
    "Edges = [(4,1,2), (1,2,1), (2,3,1), (3,4,1), (4,2,3), (1,3,5)]\n",
    "AdjList = [Vector{}() for _ in 1:numVertex]\n",
    "for ln in Edges\n",
    "    push!(AdjList[ln[1]], (ln[2],ln[3]))\n",
    "    push!(AdjList[ln[2]], (ln[1],ln[3]))\n",
    "end\n"
   ]
  },
  {
   "cell_type": "code",
   "execution_count": 225,
   "metadata": {},
   "outputs": [],
   "source": [
    "\n",
    "function readDataFromFile(filename=\"in7.txt\")\n",
    "    open(filename, \"r\") do f \n",
    "        n, m = split(readline(f))\n",
    "        n = parse(Int, n)\n",
    "        AdjList = [Vector{}() for _ in 1:n]\n",
    "#         println(n,\" \",m)\n",
    "        for ln in eachline(f)\n",
    "#             a,b,c = split(ln)\n",
    "            a,b,c = readdlm(IOBuffer(ln), Int)\n",
    "            if(a==0)\n",
    "                a=n\n",
    "            end\n",
    "            if(b==0)\n",
    "                b=n\n",
    "            end\n",
    "            push!(AdjList[a], (b,c))\n",
    "            push!(AdjList[b], (a,c))\n",
    "#             println(a,\" \",b,\" \",c)\n",
    "        end\n",
    "        return n, AdjList\n",
    "    end\n",
    "end\n",
    "numVertex, AdjList = readDataFromFile();"
   ]
  },
  {
   "cell_type": "code",
   "execution_count": 277,
   "metadata": {},
   "outputs": [
    {
     "data": {
      "text/plain": [
       "IntDisjointSets([1, 2, 3, 4, 5, 6, 7, 8, 9, 10  …  9996, 9997, 9998, 9999, 10000, 10001, 10002, 10003, 10004, 10005], [0, 0, 0, 0, 0, 0, 0, 0, 0, 0  …  0, 0, 0, 0, 0, 0, 0, 0, 0, 0], 10005)"
      ]
     },
     "execution_count": 277,
     "metadata": {},
     "output_type": "execute_result"
    }
   ],
   "source": [
    "uf = IntDisjointSets(numVertex+5)\n"
   ]
  },
  {
   "cell_type": "code",
   "execution_count": 278,
   "metadata": {},
   "outputs": [],
   "source": [
    "MAX_INT=2000000000\n",
    "minCost = SharedArray{Int}(numVertex, init= S -> S[localindices(S)] .= MAX_INT);\n",
    "minNode = SharedArray{Int}(numVertex, init= S -> S[localindices(S)] .= localindices(S));"
   ]
  },
  {
   "cell_type": "code",
   "execution_count": 279,
   "metadata": {},
   "outputs": [
    {
     "data": {
      "text/plain": [
       "0-element Array{Any,1}"
      ]
     },
     "execution_count": 279,
     "metadata": {},
     "output_type": "execute_result"
    }
   ],
   "source": [
    "mst= Vector{}()\n",
    "sizehint!(mst, numVertex)\n"
   ]
  },
  {
   "cell_type": "code",
   "execution_count": 280,
   "metadata": {},
   "outputs": [
    {
     "data": {
      "text/plain": [
       "initMinCostArray (generic function with 1 method)"
      ]
     },
     "execution_count": 280,
     "metadata": {},
     "output_type": "execute_result"
    }
   ],
   "source": [
    "function initMinCostArray()\n",
    "    for i = 1:numVertex\n",
    "        minCost[i] = MAX_INT\n",
    "        minNode[i] = i\n",
    "    end\n",
    "end"
   ]
  },
  {
   "cell_type": "code",
   "execution_count": 281,
   "metadata": {},
   "outputs": [
    {
     "data": {
      "text/plain": [
       "findMinCostVertex (generic function with 1 method)"
      ]
     },
     "execution_count": 281,
     "metadata": {},
     "output_type": "execute_result"
    }
   ],
   "source": [
    "function findMinCostVertex()\n",
    "    for i in 1:length(AdjList)\n",
    "        for j in AdjList[i]\n",
    "#             println(i,\" -> \", j[1], \"=\", j[2], \" \",  !in_same_set(uf, i, j[1])  )\n",
    "            if(minCost[i] > j[2] && !in_same_set(uf, i, j[1]) )\n",
    "                minCost[i] = j[2]\n",
    "                minNode[i] = j[1]\n",
    "            end\n",
    "        end\n",
    "    end\n",
    "end"
   ]
  },
  {
   "cell_type": "code",
   "execution_count": 282,
   "metadata": {},
   "outputs": [
    {
     "data": {
      "text/plain": [
       "0-element Array{Any,1}"
      ]
     },
     "execution_count": 282,
     "metadata": {},
     "output_type": "execute_result"
    }
   ],
   "source": [
    "res = 0 \n",
    "mst = Vector{}()"
   ]
  },
  {
   "cell_type": "code",
   "execution_count": 283,
   "metadata": {},
   "outputs": [
    {
     "data": {
      "text/plain": [
       "contractVertex (generic function with 1 method)"
      ]
     },
     "execution_count": 283,
     "metadata": {},
     "output_type": "execute_result"
    }
   ],
   "source": [
    "\n",
    "function contractVertex()\n",
    "    for i in 1:length(AdjList)\n",
    "        if(!in_same_set(uf, i, minNode[i]))\n",
    "            union!(uf, i, minNode[i])\n",
    "            global res+=minCost[i]\n",
    "            push!(mst, (i, minNode[i], minCost[i]))    \n",
    "        end\n",
    "    end\n",
    "end"
   ]
  },
  {
   "cell_type": "code",
   "execution_count": 284,
   "metadata": {},
   "outputs": [
    {
     "data": {
      "text/plain": [
       "boruvka_MST (generic function with 1 method)"
      ]
     },
     "execution_count": 284,
     "metadata": {},
     "output_type": "execute_result"
    }
   ],
   "source": [
    "function boruvka_MST()\n",
    "    i=2\n",
    "    while(i<numVertex*numVertex && length(mst)< numVertex-1)\n",
    "        i=i*i\n",
    "        initMinCostArray()\n",
    "        findMinCostVertex()\n",
    "        contractVertex()\n",
    "        # println(res)\n",
    "        # println(length(mst))\n",
    "    end\n",
    "end"
   ]
  },
  {
   "cell_type": "code",
   "execution_count": 285,
   "metadata": {},
   "outputs": [
    {
     "name": "stdout",
     "output_type": "stream",
     "text": [
      "elapsed CPU time: 0.516 seconds\n",
      "  0.515881 seconds (1.97 M allocations: 44.093 MiB)\n"
     ]
    }
   ],
   "source": [
    "@time @CPUtime boruvka_MST()\n"
   ]
  },
  {
   "cell_type": "code",
   "execution_count": 286,
   "metadata": {},
   "outputs": [
    {
     "data": {
      "text/plain": [
       "7400292"
      ]
     },
     "execution_count": 286,
     "metadata": {},
     "output_type": "execute_result"
    }
   ],
   "source": [
    "res"
   ]
  },
  {
   "cell_type": "code",
   "execution_count": 289,
   "metadata": {},
   "outputs": [
    {
     "name": "stdout",
     "output_type": "stream",
     "text": [
      "9999\n"
     ]
    }
   ],
   "source": [
    "println(length(mst))"
   ]
  },
  {
   "cell_type": "code",
   "execution_count": null,
   "metadata": {},
   "outputs": [],
   "source": []
  }
 ],
 "metadata": {
  "kernelspec": {
   "display_name": "Julia 1.3.1",
   "language": "julia",
   "name": "julia-1.3"
  },
  "language_info": {
   "file_extension": ".jl",
   "mimetype": "application/julia",
   "name": "julia",
   "version": "1.3.1"
  }
 },
 "nbformat": 4,
 "nbformat_minor": 4
}

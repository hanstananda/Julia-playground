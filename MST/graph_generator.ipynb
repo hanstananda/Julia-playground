{
 "cells": [
  {
   "cell_type": "code",
   "execution_count": 6,
   "metadata": {
    "pycharm": {
     "is_executing": false
    }
   },
   "outputs": [
    {
     "data": {
      "text/plain": [
       "100000"
      ]
     },
     "execution_count": 6,
     "metadata": {},
     "output_type": "execute_result"
    }
   ],
   "source": [
    "n=100000"
   ]
  },
  {
   "cell_type": "code",
   "execution_count": 7,
   "metadata": {
    "pycharm": {
     "is_executing": false
    }
   },
   "outputs": [
    {
     "data": {
      "text/plain": [
       "5000000"
      ]
     },
     "execution_count": 7,
     "metadata": {},
     "output_type": "execute_result"
    }
   ],
   "source": [
    "m=5000000"
   ]
  },
  {
   "cell_type": "code",
   "execution_count": 8,
   "metadata": {
    "pycharm": {
     "is_executing": false
    }
   },
   "outputs": [
    {
     "data": {
      "text/plain": [
       "Set(Int64[])"
      ]
     },
     "execution_count": 8,
     "metadata": {},
     "output_type": "execute_result"
    }
   ],
   "source": [
    "using Random\n",
    "rng = MersenneTwister()\n",
    "edges = Set{Int64}([])\n",
    "sizehint!(edges,m)"
   ]
  },
  {
   "cell_type": "code",
   "execution_count": 9,
   "metadata": {},
   "outputs": [],
   "source": [
    "function Randomized()\n",
    "    while(true)\n",
    "        from = rand(rng, 0:n-1)\n",
    "        to = rand(rng, 0:n-1)\n",
    "        weight= rand(rng, 1:m)\n",
    "        # println(from, \" \", to, \" \", weight)\n",
    "        hashval = from*2*n+to\n",
    "        hashval2 = to*2*n+from\n",
    "        if from==to \n",
    "            continue\n",
    "        elseif (hashval in edges) || (hashval2 in edges)\n",
    "            continue\n",
    "        end\n",
    "        push!(edges, hashval)\n",
    "        return from,to,weight\n",
    "        break\n",
    "    end\n",
    "end;"
   ]
  },
  {
   "cell_type": "code",
   "execution_count": 10,
   "metadata": {},
   "outputs": [],
   "source": [
    "open(\"in_n_10e5_m_5e6.in\", \"w\") do io\n",
    "    println(io,n,\" \", m)\n",
    "    for i=1:m\n",
    "        res = Randomized()\n",
    "        println(io, res[1], \" \", res[2], \" \", res[3])\n",
    "    end\n",
    "end\n"
   ]
  },
  {
   "cell_type": "code",
   "execution_count": null,
   "metadata": {},
   "outputs": [],
   "source": []
  }
 ],
 "metadata": {
  "kernelspec": {
   "display_name": "Julia 1.3.1",
   "language": "julia",
   "name": "julia-1.3"
  },
  "language_info": {
   "file_extension": ".jl",
   "mimetype": "application/julia",
   "name": "julia",
   "version": "1.3.1"
  }
 },
 "nbformat": 4,
 "nbformat_minor": 4
}

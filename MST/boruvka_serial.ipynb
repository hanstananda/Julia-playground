{
 "cells": [
  {
   "cell_type": "code",
   "execution_count": 1,
   "metadata": {},
   "outputs": [],
   "source": [
    "using CPUTime\n",
    "using DelimitedFiles\n",
    "using Base\n",
    "using DataStructures"
   ]
  },
  {
   "cell_type": "code",
   "execution_count": 2,
   "metadata": {},
   "outputs": [],
   "source": [
    "numVertex=4\n",
    "Edges = [(4,1,2), (1,2,1), (2,3,1), (3,4,1), (4,2,3), (1,3,5)]\n",
    "AdjList = [Vector{}() for _ in 1:numVertex]\n",
    "for ln in Edges\n",
    "    push!(AdjList[ln[1]], (ln[1], ln[2],ln[3]))\n",
    "    push!(AdjList[ln[2]], (ln[2], ln[1],ln[3]))\n",
    "end"
   ]
  },
  {
   "cell_type": "code",
   "execution_count": 3,
   "metadata": {
    "scrolled": true
   },
   "outputs": [],
   "source": [
    "# for in_n_10e5_m_5e6.in, generate the file from graph_generator.ipynb\n",
    "# function readDataFromFile(filename=\"in_n_10e5_m_5e6.in\")\n",
    "function readDataFromFile(filename=\"in7.txt\")\n",
    "    open(filename, \"r\") do f \n",
    "        n, m = split(readline(f))\n",
    "        n = parse(Int, n)\n",
    "        AdjList = [Vector{}() for _ in 1:n]\n",
    "#         println(n,\" \",m)\n",
    "        for ln in eachline(f)\n",
    "#             a,b,c = split(ln)\n",
    "            a,b,c = readdlm(IOBuffer(ln), Int)\n",
    "            if(a==0)\n",
    "                a=n\n",
    "            end\n",
    "            if(b==0)\n",
    "                b=n\n",
    "            end\n",
    "            push!(AdjList[a], (a,b,c))\n",
    "            push!(AdjList[b], (b,a,c))\n",
    "#             println(a,\" \",b,\" \",c)\n",
    "        end\n",
    "        return n, AdjList\n",
    "    end\n",
    "end\n",
    "numVertex, AdjList = readDataFromFile();"
   ]
  },
  {
   "cell_type": "code",
   "execution_count": 4,
   "metadata": {},
   "outputs": [
    {
     "name": "stdout",
     "output_type": "stream",
     "text": [
      "10000\n"
     ]
    }
   ],
   "source": [
    "println(numVertex)"
   ]
  },
  {
   "cell_type": "code",
   "execution_count": 5,
   "metadata": {},
   "outputs": [],
   "source": [
    "uf = IntDisjointSets(numVertex+5);\n"
   ]
  },
  {
   "cell_type": "code",
   "execution_count": 6,
   "metadata": {},
   "outputs": [],
   "source": [
    "MAX_INT=2000000000;\n",
    "minCost = fill(MAX_INT, numVertex+1);\n",
    "minNodeTgt = Vector{Int}(1:numVertex+1);\n",
    "minNodeSrc = Vector{Int}(1:numVertex+1);"
   ]
  },
  {
   "cell_type": "code",
   "execution_count": 7,
   "metadata": {},
   "outputs": [
    {
     "data": {
      "text/plain": [
       "0-element Array{Any,1}"
      ]
     },
     "execution_count": 7,
     "metadata": {},
     "output_type": "execute_result"
    }
   ],
   "source": [
    "res = 0 \n",
    "mst = Vector{}()"
   ]
  },
  {
   "cell_type": "code",
   "execution_count": 8,
   "metadata": {},
   "outputs": [
    {
     "data": {
      "text/plain": [
       "initMinCostArray (generic function with 1 method)"
      ]
     },
     "execution_count": 8,
     "metadata": {},
     "output_type": "execute_result"
    }
   ],
   "source": [
    "function initMinCostArray()\n",
    "    for i = 1:numVertex\n",
    "        minCost[i] = MAX_INT\n",
    "        minNodeTgt[i] = i\n",
    "        minNodeSrc[i] = i\n",
    "    end\n",
    "end"
   ]
  },
  {
   "cell_type": "code",
   "execution_count": 9,
   "metadata": {},
   "outputs": [
    {
     "data": {
      "text/plain": [
       "findMinCostVertex (generic function with 1 method)"
      ]
     },
     "execution_count": 9,
     "metadata": {},
     "output_type": "execute_result"
    }
   ],
   "source": [
    "function findMinCostVertex()\n",
    "    for i in 1:length(AdjList)\n",
    "        for j in AdjList[i]\n",
    "#             println(i,\" -> \", j[1], \"=\", j[2], \" \",  !in_same_set(uf, i, j[1])  )\n",
    "            set1 = find_root(uf, j[1])\n",
    "            set2 = find_root(uf, j[2])\n",
    "            if set1 != set2\n",
    "                if(minCost[set1] > j[3] )\n",
    "                    minCost[set1] = j[3]\n",
    "                    minNodeTgt[set1] = j[2]\n",
    "                    minNodeSrc[set1] = j[1]\n",
    "                end\n",
    "            end\n",
    "        end\n",
    "    end\n",
    "end"
   ]
  },
  {
   "cell_type": "code",
   "execution_count": 10,
   "metadata": {},
   "outputs": [
    {
     "data": {
      "text/plain": [
       "contractVertexAndMergeAdjList (generic function with 1 method)"
      ]
     },
     "execution_count": 10,
     "metadata": {},
     "output_type": "execute_result"
    }
   ],
   "source": [
    "function contractVertexAndMergeAdjList()\n",
    "    for i in 1:numVertex\n",
    "        if(minCost[i]!= MAX_INT && !in_same_set(uf, minNodeSrc[i], minNodeTgt[i]))\n",
    "            # Connect the vertices, add mst to answer\n",
    "            set1 = find_root(uf, minNodeSrc[i])\n",
    "            set2 = find_root(uf, minNodeTgt[i])\n",
    "            union!(uf, minNodeSrc[i], minNodeTgt[i])\n",
    "            global res+=minCost[i]\n",
    "            push!(mst, (minNodeSrc[i], minNodeTgt[i], minCost[i]))\n",
    "            # Merge AdjList \n",
    "            len1 = length(AdjList[set1])\n",
    "            len2 = length(AdjList[set2])\n",
    "            if (len1> len2)\n",
    "                for j in AdjList[set2]\n",
    "                    push!(AdjList[set1],j)\n",
    "                end\n",
    "                AdjList[set2] = Vector{}()\n",
    "            else\n",
    "                for j in AdjList[set1]\n",
    "                    push!(AdjList[set2],j)\n",
    "                    AdjList[set1] = Vector{}()\n",
    "                end\n",
    "            end\n",
    "        end\n",
    "    end\n",
    "end"
   ]
  },
  {
   "cell_type": "code",
   "execution_count": 11,
   "metadata": {},
   "outputs": [
    {
     "data": {
      "text/plain": [
       "boruvka_MST (generic function with 2 methods)"
      ]
     },
     "execution_count": 11,
     "metadata": {},
     "output_type": "execute_result"
    }
   ],
   "source": [
    "function boruvka_MST(maxItr = convert(Int64, round(log2(numVertex)+1, digits=0)))\n",
    "    i=1\n",
    "    println(\"Max iteration: \", maxItr)\n",
    "    while(i<maxItr && length(mst)< numVertex-1)\n",
    "        i+=1\n",
    "        println(i, \" \", length(mst))\n",
    "        initMinCostArray()\n",
    "        findMinCostVertex()\n",
    "        contractVertexAndMergeAdjList()\n",
    "        # println(res)\n",
    "        # println(length(mst))\n",
    "    end\n",
    "end"
   ]
  },
  {
   "cell_type": "code",
   "execution_count": 12,
   "metadata": {
    "scrolled": true
   },
   "outputs": [
    {
     "name": "stdout",
     "output_type": "stream",
     "text": [
      "Max iteration: 14\n",
      "2 0\n",
      "3 7491\n",
      "4 9477\n",
      "5 9919\n",
      "6 9986\n",
      "7 9998\n",
      "elapsed CPU time: 1.899149 seconds\n",
      "  1.978484 seconds (9.29 M allocations: 226.088 MiB, 2.06% gc time)\n"
     ]
    }
   ],
   "source": [
    "@time @CPUtime boruvka_MST()"
   ]
  },
  {
   "cell_type": "code",
   "execution_count": 13,
   "metadata": {},
   "outputs": [
    {
     "name": "stdout",
     "output_type": "stream",
     "text": [
      "9999\n"
     ]
    }
   ],
   "source": [
    "println(length(mst))"
   ]
  },
  {
   "cell_type": "code",
   "execution_count": 14,
   "metadata": {},
   "outputs": [
    {
     "name": "stdout",
     "output_type": "stream",
     "text": [
      "6064035\n"
     ]
    }
   ],
   "source": [
    "println(res)"
   ]
  },
  {
   "cell_type": "code",
   "execution_count": null,
   "outputs": [],
   "source": [],
   "metadata": {
    "collapsed": false,
    "pycharm": {
     "name": "#%%\n"
    }
   }
  },
  {
   "cell_type": "code",
   "execution_count": null,
   "metadata": {},
   "outputs": [],
   "source": []
  },
  {
   "cell_type": "code",
   "execution_count": null,
   "metadata": {},
   "outputs": [],
   "source": []
  }
 ],
 "metadata": {
  "kernelspec": {
   "display_name": "Julia 1.3.1",
   "language": "julia",
   "name": "julia-1.3"
  },
  "language_info": {
   "file_extension": ".jl",
   "mimetype": "application/julia",
   "name": "julia",
   "version": "1.3.1"
  },
  "pycharm": {
   "stem_cell": {
    "cell_type": "raw",
    "source": [],
    "metadata": {
     "collapsed": false
    }
   }
  }
 },
 "nbformat": 4,
 "nbformat_minor": 4
}
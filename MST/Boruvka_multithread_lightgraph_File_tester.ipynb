{
 "cells": [
  {
   "cell_type": "code",
   "execution_count": 1,
   "metadata": {},
   "outputs": [],
   "source": [
    "using CPUTime\n",
    "using DelimitedFiles\n",
    "using Base\n",
    "using LightGraphs, SimpleWeightedGraphs\n",
    "using Distributed\n",
    "using Printf"
   ]
  },
  {
   "cell_type": "code",
   "execution_count": 2,
   "metadata": {},
   "outputs": [
    {
     "data": {
      "text/plain": [
       "3"
      ]
     },
     "execution_count": 2,
     "metadata": {},
     "output_type": "execute_result"
    }
   ],
   "source": [
    "addprocs(2)\n",
    "nprocs()"
   ]
  },
  {
   "cell_type": "code",
   "execution_count": 3,
   "metadata": {},
   "outputs": [
    {
     "data": {
      "text/plain": [
       "{100000, 5000000} undirected simple Int64 graph with Float64 weights"
      ]
     },
     "execution_count": 3,
     "metadata": {},
     "output_type": "execute_result"
    }
   ],
   "source": [
    "function readDataFromFile(filename=\"in7.txt\")\n",
    "    open(filename, \"r\") do f \n",
    "        n, m = split(readline(f))\n",
    "        n = parse(Int, n)\n",
    "#         cnt=0\n",
    "        sources = Vector{Int}()\n",
    "        destinations = Vector{Int}()\n",
    "        weights = Vector{Float64}()\n",
    "        for ln in eachline(f)\n",
    "#             a,b,c = split(ln)\n",
    "            a,b,c = readdlm(IOBuffer(ln), Int)\n",
    "            if(a==0)\n",
    "                a=n\n",
    "            end\n",
    "            if(b==0)\n",
    "                b=n\n",
    "            end\n",
    "#             cnt+=1\n",
    "#             if(cnt%10000==0)\n",
    "#                 println(cnt)\n",
    "#             end\n",
    "            if(c ==0)\n",
    "                push!(sources,a)\n",
    "                push!(destinations,b)\n",
    "                push!(weights,0.000001)\n",
    "            else\n",
    "                push!(sources,a)\n",
    "                push!(destinations,b)\n",
    "                push!(weights,c)\n",
    "            end\n",
    "        end\n",
    "        g = SimpleWeightedGraph(sources, destinations, weights)\n",
    "        return g\n",
    "    end\n",
    "end\n",
    "# for in_n_10e5_m_5e6.in, generate the file from graph_generator.ipynb\n",
    "g = readDataFromFile(\"in_n_10e5_m_5e6.in\")\n",
    "# g = readDataFromFile(\"in7.txt\")"
   ]
  },
  {
   "cell_type": "code",
   "execution_count": 4,
   "metadata": {},
   "outputs": [
    {
     "name": "stdout",
     "output_type": "stream",
     "text": [
      "elapsed CPU time: 8.547239 seconds\n",
      "  8.671573 seconds (664.64 k allocations: 1.551 GiB, 2.34% gc time)\n",
      "99999\n",
      "493973783578.000"
     ]
    }
   ],
   "source": [
    "# Baseline\n",
    "@time @CPUtime (mst, weight) = boruvka_mst(g, minimize=false)\n",
    "println(length(mst))\n",
    "@printf(\"%.3lf\", weight)"
   ]
  },
  {
   "cell_type": "code",
   "execution_count": 9,
   "metadata": {
    "scrolled": true
   },
   "outputs": [
    {
     "data": {
      "text/plain": [
       "contractvertex (generic function with 3 methods)"
      ]
     },
     "execution_count": 9,
     "metadata": {},
     "output_type": "execute_result"
    }
   ],
   "source": [
    "include(\"Final/boruvka-singlethread.jl\")"
   ]
  },
  {
   "cell_type": "code",
   "execution_count": 10,
   "metadata": {},
   "outputs": [
    {
     "name": "stdout",
     "output_type": "stream",
     "text": [
      "Max iteration: 18\n",
      "elapsed CPU time: 10.17709 seconds\n",
      " 10.178529 seconds (573.27 k allocations: 57.629 MiB, 0.29% gc time)\n",
      "99999\n",
      "6018132840.000"
     ]
    }
   ],
   "source": [
    "@time @CPUtime (mst, weight) = boruvka_mst_singlethread(g)\n",
    "println(length(mst))\n",
    "@printf(\"%.3lf\", weight)"
   ]
  },
  {
   "cell_type": "code",
   "execution_count": 7,
   "metadata": {},
   "outputs": [
    {
     "data": {
      "text/plain": [
       "contractvertex (generic function with 2 methods)"
      ]
     },
     "execution_count": 7,
     "metadata": {},
     "output_type": "execute_result"
    }
   ],
   "source": [
    "include(\"Final/boruvka-multithread.jl\")"
   ]
  },
  {
   "cell_type": "code",
   "execution_count": 8,
   "metadata": {},
   "outputs": [
    {
     "name": "stdout",
     "output_type": "stream",
     "text": [
      "Max iteration: 18\n",
      "elapsed CPU time: 13.835071 seconds\n",
      "  4.528539 seconds (457.98 k allocations: 52.344 MiB)\n",
      "99999\n",
      "493973783578.000"
     ]
    }
   ],
   "source": [
    "@time @CPUtime (mst, weight) = boruvka_mst_multithread(g, minimize=false)\n",
    "println(length(mst))\n",
    "@printf(\"%.3lf\", weight)"
   ]
  },
  {
   "cell_type": "code",
   "execution_count": 5,
   "metadata": {},
   "outputs": [
    {
     "data": {
      "text/plain": [
       "contractvertex (generic function with 1 method)"
      ]
     },
     "execution_count": 5,
     "metadata": {},
     "output_type": "execute_result"
    }
   ],
   "source": [
    "include(\"Final/boruvka-distributed.jl\")"
   ]
  },
  {
   "cell_type": "code",
   "execution_count": 6,
   "metadata": {},
   "outputs": [
    {
     "name": "stdout",
     "output_type": "stream",
     "text": [
      "Max iteration: 18\n",
      "elapsed CPU time: 3.272268 seconds\n",
      " 12.836661 seconds (7.48 M allocations: 402.431 MiB, 1.25% gc time)\n",
      "99999\n",
      "493973783578.000"
     ]
    }
   ],
   "source": [
    "@time @CPUtime (mst, weight) = boruvka_mst_distributed(g, minimize=false)\n",
    "println(length(mst))\n",
    "@printf(\"%.3lf\", weight)"
   ]
  },
  {
   "cell_type": "code",
   "execution_count": null,
   "metadata": {},
   "outputs": [],
   "source": []
  }
 ],
 "metadata": {
  "kernelspec": {
   "display_name": "Julia 1.3.1",
   "language": "julia",
   "name": "julia-1.3"
  },
  "language_info": {
   "file_extension": ".jl",
   "mimetype": "application/julia",
   "name": "julia",
   "version": "1.3.1"
  }
 },
 "nbformat": 4,
 "nbformat_minor": 4
}

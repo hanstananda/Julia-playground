{
 "cells": [
  {
   "cell_type": "code",
   "execution_count": 4,
   "metadata": {},
   "outputs": [],
   "source": [
    "using CPUTime\n",
    "using DelimitedFiles\n",
    "using Base\n",
    "using LightGraphs, SimpleWeightedGraphs\n"
   ]
  },
  {
   "cell_type": "code",
   "execution_count": 5,
   "metadata": {},
   "outputs": [
    {
     "data": {
      "text/plain": [
       "{100000, 5000000} undirected simple Int64 graph with Float64 weights"
      ]
     },
     "execution_count": 5,
     "metadata": {},
     "output_type": "execute_result"
    }
   ],
   "source": [
    "function readDataFromFile(filename=\"in7.txt\")\n",
    "    open(filename, \"r\") do f \n",
    "        n, m = split(readline(f))\n",
    "        n = parse(Int, n)\n",
    "#         cnt=0\n",
    "        sources = Vector{Int}()\n",
    "        destinations = Vector{Int}()\n",
    "        weights = Vector{Float64}()\n",
    "        for ln in eachline(f)\n",
    "#             a,b,c = split(ln)\n",
    "            a,b,c = readdlm(IOBuffer(ln), Int)\n",
    "            if(a==0)\n",
    "                a=n\n",
    "            end\n",
    "            if(b==0)\n",
    "                b=n\n",
    "            end\n",
    "#             cnt+=1\n",
    "#             if(cnt%10000==0)\n",
    "#                 println(cnt)\n",
    "#             end\n",
    "            if(c ==0)\n",
    "                push!(sources,a)\n",
    "                push!(destinations,b)\n",
    "                push!(weights,0.000001)\n",
    "            else\n",
    "                push!(sources,a)\n",
    "                push!(destinations,b)\n",
    "                push!(weights,c)\n",
    "            end\n",
    "        end\n",
    "        g = SimpleWeightedGraph(sources, destinations, weights)\n",
    "        return g\n",
    "    end\n",
    "end\n",
    "# for in_n_10e5_m_5e6.in, generate the file from graph_generator.ipynb\n",
    "g = readDataFromFile(\"in_n_10e5_m_5e6.in\")\n",
    "# g = readDataFromFile(\"in7.txt\")"
   ]
  },
  {
   "cell_type": "code",
   "execution_count": 13,
   "metadata": {},
   "outputs": [
    {
     "data": {
      "text/plain": [
       "contractVertex (generic function with 1 method)"
      ]
     },
     "execution_count": 13,
     "metadata": {},
     "output_type": "execute_result"
    }
   ],
   "source": [
    "include(\"boruvka_multithread_lightgraph.jl\")"
   ]
  },
  {
   "cell_type": "code",
   "execution_count": 14,
   "metadata": {},
   "outputs": [
    {
     "name": "stdout",
     "output_type": "stream",
     "text": [
      "Max iteration: 18\n",
      "elapsed CPU time: 2.617068 seconds\n",
      "  1.063898 seconds (395.16 k allocations: 48.697 MiB)\n",
      "99999\n",
      "6018132840\n"
     ]
    }
   ],
   "source": [
    "@time @CPUtime (mst, weight) = boruvka_mst_multithread(g)\n",
    "println(length(mst))\n",
    "println(weight)"
   ]
  },
  {
   "cell_type": "code",
   "execution_count": null,
   "metadata": {},
   "outputs": [],
   "source": []
  }
 ],
 "metadata": {
  "kernelspec": {
   "display_name": "Julia 1.3.1",
   "language": "julia",
   "name": "julia-1.3"
  },
  "language_info": {
   "file_extension": ".jl",
   "mimetype": "application/julia",
   "name": "julia",
   "version": "1.3.1"
  }
 },
 "nbformat": 4,
 "nbformat_minor": 4
}

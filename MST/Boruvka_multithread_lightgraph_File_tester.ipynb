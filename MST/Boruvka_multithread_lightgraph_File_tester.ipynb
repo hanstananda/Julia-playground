{
 "cells": [
  {
   "cell_type": "code",
   "execution_count": 4,
   "metadata": {},
   "outputs": [],
   "source": [
    "using CPUTime\n",
    "using DelimitedFiles\n",
    "using Base\n",
    "using LightGraphs, SimpleWeightedGraphs\n",
    "using Distributed\n"
   ]
  },
  {
   "cell_type": "code",
   "execution_count": 2,
   "metadata": {},
   "outputs": [
    {
     "data": {
      "text/plain": [
       "{100000, 5000000} undirected simple Int64 graph with Float64 weights"
      ]
     },
     "execution_count": 2,
     "metadata": {},
     "output_type": "execute_result"
    }
   ],
   "source": [
    "function readDataFromFile(filename=\"in7.txt\")\n",
    "    open(filename, \"r\") do f \n",
    "        n, m = split(readline(f))\n",
    "        n = parse(Int, n)\n",
    "#         cnt=0\n",
    "        sources = Vector{Int}()\n",
    "        destinations = Vector{Int}()\n",
    "        weights = Vector{Float64}()\n",
    "        for ln in eachline(f)\n",
    "#             a,b,c = split(ln)\n",
    "            a,b,c = readdlm(IOBuffer(ln), Int)\n",
    "            if(a==0)\n",
    "                a=n\n",
    "            end\n",
    "            if(b==0)\n",
    "                b=n\n",
    "            end\n",
    "#             cnt+=1\n",
    "#             if(cnt%10000==0)\n",
    "#                 println(cnt)\n",
    "#             end\n",
    "            if(c ==0)\n",
    "                push!(sources,a)\n",
    "                push!(destinations,b)\n",
    "                push!(weights,0.000001)\n",
    "            else\n",
    "                push!(sources,a)\n",
    "                push!(destinations,b)\n",
    "                push!(weights,c)\n",
    "            end\n",
    "        end\n",
    "        g = SimpleWeightedGraph(sources, destinations, weights)\n",
    "        return g\n",
    "    end\n",
    "end\n",
    "# for in_n_10e5_m_5e6.in, generate the file from graph_generator.ipynb\n",
    "g = readDataFromFile(\"in_n_10e5_m_5e6.in\")\n",
    "# g = readDataFromFile(\"in7.txt\")"
   ]
  },
  {
   "cell_type": "code",
   "execution_count": 15,
   "metadata": {},
   "outputs": [
    {
     "data": {
      "text/plain": [
       "contractVertex (generic function with 1 method)"
      ]
     },
     "execution_count": 15,
     "metadata": {},
     "output_type": "execute_result"
    }
   ],
   "source": [
    "include(\"boruvka_multithread_lightgraph.jl\")"
   ]
  },
  {
   "cell_type": "code",
   "execution_count": 16,
   "metadata": {},
   "outputs": [
    {
     "name": "stdout",
     "output_type": "stream",
     "text": [
      "Max iteration: 18\n",
      "elapsed CPU time: 2.082855 seconds\n",
      "  2.083147 seconds (368.58 k allocations: 47.299 MiB)\n",
      "99999\n",
      "6018132840\n"
     ]
    }
   ],
   "source": [
    "@time @CPUtime (mst, weight) = boruvka_mst_multithread(g)\n",
    "println(length(mst))\n",
    "println(weight)"
   ]
  },
  {
   "cell_type": "code",
   "execution_count": 17,
   "metadata": {},
   "outputs": [
    {
     "data": {
      "text/plain": [
       "contractVertex (generic function with 1 method)"
      ]
     },
     "execution_count": 17,
     "metadata": {},
     "output_type": "execute_result"
    }
   ],
   "source": [
    "include(\"boruvka_multithread_lightgraph.jl\")"
   ]
  },
  {
   "cell_type": "code",
   "execution_count": 18,
   "metadata": {},
   "outputs": [
    {
     "name": "stdout",
     "output_type": "stream",
     "text": [
      "Max iteration: 18\n",
      "elapsed CPU time: 2.63682 seconds\n",
      "  1.077598 seconds (395.20 k allocations: 48.700 MiB)\n",
      "99999\n",
      "6018132840\n"
     ]
    }
   ],
   "source": [
    "@time @CPUtime (mst, weight) = boruvka_mst_multithread(g)\n",
    "println(length(mst))\n",
    "println(weight)"
   ]
  },
  {
   "cell_type": "code",
   "execution_count": 7,
   "metadata": {},
   "outputs": [
    {
     "data": {
      "text/plain": [
       "contractVertex (generic function with 1 method)"
      ]
     },
     "execution_count": 7,
     "metadata": {},
     "output_type": "execute_result"
    }
   ],
   "source": [
    "include(\"boruvka_serial_lightgraph.jl\")"
   ]
  },
  {
   "cell_type": "code",
   "execution_count": 8,
   "metadata": {},
   "outputs": [
    {
     "name": "stdout",
     "output_type": "stream",
     "text": [
      "Max iteration: 18\n",
      "elapsed CPU time: 2.479245 seconds\n",
      "  2.616453 seconds (1.17 M allocations: 87.120 MiB)\n",
      "99999\n",
      "6018132840\n"
     ]
    }
   ],
   "source": [
    "@time @CPUtime (mst, weight) = boruvka_mst_single(g)\n",
    "println(length(mst))\n",
    "println(weight)"
   ]
  },
  {
   "cell_type": "code",
   "execution_count": 5,
   "metadata": {},
   "outputs": [
    {
     "data": {
      "text/plain": [
       "3"
      ]
     },
     "execution_count": 5,
     "metadata": {},
     "output_type": "execute_result"
    }
   ],
   "source": [
    "addprocs(2)\n",
    "nprocs()"
   ]
  },
  {
   "cell_type": "code",
   "execution_count": 16,
   "metadata": {},
   "outputs": [
    {
     "data": {
      "text/plain": [
       "contractVertex (generic function with 2 methods)"
      ]
     },
     "execution_count": 16,
     "metadata": {},
     "output_type": "execute_result"
    }
   ],
   "source": [
    "include(\"boruvka_distributed_lightgraph.jl\")"
   ]
  },
  {
   "cell_type": "code",
   "execution_count": null,
   "metadata": {},
   "outputs": [
    {
     "name": "stdout",
     "output_type": "stream",
     "text": [
      "Max iteration: 18\n"
     ]
    }
   ],
   "source": [
    "@time @CPUtime (mst, weight) = boruvka_mst_distributed(g)\n",
    "println(length(mst))\n",
    "println(weight)"
   ]
  },
  {
   "cell_type": "code",
   "execution_count": null,
   "metadata": {},
   "outputs": [],
   "source": []
  }
 ],
 "metadata": {
  "kernelspec": {
   "display_name": "Julia 1.3.1",
   "language": "julia",
   "name": "julia-1.3"
  },
  "language_info": {
   "file_extension": ".jl",
   "mimetype": "application/julia",
   "name": "julia",
   "version": "1.3.1"
  }
 },
 "nbformat": 4,
 "nbformat_minor": 4
}

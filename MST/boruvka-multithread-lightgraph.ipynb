{
 "cells": [
  {
   "cell_type": "code",
   "execution_count": 199,
   "metadata": {},
   "outputs": [],
   "source": [
    "using LightGraphs, SimpleWeightedGraphs\n",
    "using CPUTime\n",
    "using DelimitedFiles\n",
    "using Base\n",
    "using DataStructures\n",
    "using Base.Threads\n"
   ]
  },
  {
   "cell_type": "code",
   "execution_count": 241,
   "metadata": {},
   "outputs": [
    {
     "data": {
      "text/plain": [
       "4"
      ]
     },
     "execution_count": 241,
     "metadata": {},
     "output_type": "execute_result"
    }
   ],
   "source": [
    "nthreads()"
   ]
  },
  {
   "cell_type": "code",
   "execution_count": 284,
   "metadata": {},
   "outputs": [],
   "source": [
    "# Run this only for diagnostic purposes\n",
    "numVertex=6\n",
    "g = SimpleWeightedGraph(numVertex)\n",
    "Edges = [(1,2,1), (1,3,3), (2,3,1), (2,4,7), (3,5,1), (2,5,3), (4,5,1), (4,6,1), (5,6,6)]; # Manual edges input for initial sanity check, format is (src, dst, weight)\n",
    "for edge in Edges\n",
    "    add_edge!(g, edge[1], edge[2], edge[3])\n",
    "end"
   ]
  },
  {
   "cell_type": "code",
   "execution_count": 285,
   "metadata": {},
   "outputs": [
    {
     "data": {
      "text/plain": [
       "{10000, 100000} undirected simple Int64 graph with Float64 weights"
      ]
     },
     "execution_count": 285,
     "metadata": {},
     "output_type": "execute_result"
    }
   ],
   "source": [
    "function readDataFromFile(filename=\"in7.txt\")\n",
    "    open(filename, \"r\") do f \n",
    "        n, m = split(readline(f))\n",
    "        n = parse(Int, n)\n",
    "        g = SimpleWeightedGraph(n)\n",
    "        for ln in eachline(f)\n",
    "#             a,b,c = split(ln)\n",
    "            a,b,c = readdlm(IOBuffer(ln), Int)\n",
    "            if(a==0)\n",
    "                a=n\n",
    "            end\n",
    "            if(b==0)\n",
    "                b=n\n",
    "            end\n",
    "            \n",
    "            if(!(has_edge(g,a,b)) || get_weight!(g, a,b) > c)\n",
    "                if(c ==0)\n",
    "                    add_edge!(g, a, b, 0.01)\n",
    "                else\n",
    "                    add_edge!(g, a,b,c)\n",
    "                end\n",
    "                \n",
    "            end\n",
    "        end\n",
    "        return g\n",
    "    end\n",
    "end\n",
    "# for in_n_10e5_m_5e6.in, generate the file from graph_generator.ipynb\n",
    "# g = readDataFromFile(\"in_n_10e5_m_5e6.in\")\n",
    "g = readDataFromFile(\"in7.txt\")"
   ]
  },
  {
   "cell_type": "code",
   "execution_count": 298,
   "metadata": {},
   "outputs": [
    {
     "data": {
      "text/plain": [
       "IntDisjointSets([1, 2, 3, 4, 5, 6, 7, 8, 9, 10  …  9991, 9992, 9993, 9994, 9995, 9996, 9997, 9998, 9999, 10000], [0, 0, 0, 0, 0, 0, 0, 0, 0, 0  …  0, 0, 0, 0, 0, 0, 0, 0, 0, 0], 10000)"
      ]
     },
     "execution_count": 298,
     "metadata": {},
     "output_type": "execute_result"
    }
   ],
   "source": [
    "connected_vs = IntDisjointSets(nv(g))"
   ]
  },
  {
   "cell_type": "code",
   "execution_count": 299,
   "metadata": {},
   "outputs": [],
   "source": [
    "joined_nodes = Dict{Int, Vector{Int}}()\n",
    "for j in 1:nv(g)\n",
    "    i = find_root(connected_vs,j)\n",
    "    if(haskey(joined_nodes,i))\n",
    "        push!(joined_nodes[i],j)\n",
    "    else\n",
    "        joined_nodes[i] = [j]\n",
    "    end\n",
    "end"
   ]
  },
  {
   "cell_type": "code",
   "execution_count": 300,
   "metadata": {},
   "outputs": [
    {
     "data": {
      "text/plain": [
       "0"
      ]
     },
     "execution_count": 300,
     "metadata": {},
     "output_type": "execute_result"
    }
   ],
   "source": [
    "mst = Vector{edgetype(g)}()\n",
    "sizehint!(mst, nv(g) - 1)\n",
    "res =0"
   ]
  },
  {
   "cell_type": "code",
   "execution_count": 301,
   "metadata": {},
   "outputs": [],
   "source": [
    "MAX_INT=2000000000;\n",
    "minCost = fill(MAX_INT, nv(g)+1);\n",
    "minNodeTgt = Vector{Int}(1:nv(g)+1);\n",
    "minNodeSrc = Vector{Int}(1:nv(g)+1);"
   ]
  },
  {
   "cell_type": "code",
   "execution_count": 302,
   "metadata": {},
   "outputs": [
    {
     "data": {
      "text/plain": [
       "initMinCostArray (generic function with 1 method)"
      ]
     },
     "execution_count": 302,
     "metadata": {},
     "output_type": "execute_result"
    }
   ],
   "source": [
    "function initMinCostArray()\n",
    "    for i = 1:nv(g)\n",
    "        minCost[i] = MAX_INT\n",
    "        minNodeTgt[i] = i\n",
    "        minNodeSrc[i] = i\n",
    "    end\n",
    "end"
   ]
  },
  {
   "cell_type": "code",
   "execution_count": 303,
   "metadata": {},
   "outputs": [
    {
     "data": {
      "text/plain": [
       "findMinCostVertex (generic function with 1 method)"
      ]
     },
     "execution_count": 303,
     "metadata": {},
     "output_type": "execute_result"
    }
   ],
   "source": [
    "function findMinCostVertex()\n",
    "    for i in keys(joined_nodes)\n",
    "        # println(\"Accessing set \",i, \" with sources \", joined_nodes[i])\n",
    "        for src in joined_nodes[i]\n",
    "            for dst in neighbors(g, src)\n",
    "                weight = floor(Int,get_weight(g,src,dst))\n",
    "                # println(src,\" -> \", dst, \"=\", weight, \" \",  !in_same_set(connected_vs, src, dst) )\n",
    "                root_src = find_root(connected_vs, src)\n",
    "                root_dst = find_root(connected_vs, dst)\n",
    "                if root_src != root_dst\n",
    "                    if(minCost[root_src] > weight )\n",
    "                        minCost[root_src] = weight\n",
    "                        minNodeTgt[root_src] = dst\n",
    "                        minNodeSrc[root_src] = src\n",
    "                    end\n",
    "                end\n",
    "            end\n",
    "            \n",
    "        end\n",
    "    end\n",
    "end"
   ]
  },
  {
   "cell_type": "code",
   "execution_count": 304,
   "metadata": {},
   "outputs": [
    {
     "data": {
      "text/plain": [
       "contractVertex (generic function with 1 method)"
      ]
     },
     "execution_count": 304,
     "metadata": {},
     "output_type": "execute_result"
    }
   ],
   "source": [
    "function contractVertex()\n",
    "    for i in 1:nv(g)\n",
    "        if(minCost[i]!= MAX_INT && !in_same_set(connected_vs, minNodeSrc[i], minNodeTgt[i]))\n",
    "            # Connect the vertices, add mst to answer\n",
    "            set1 = find_root(connected_vs, minNodeSrc[i])\n",
    "            set2 = find_root(connected_vs, minNodeTgt[i])\n",
    "            union!(connected_vs, minNodeSrc[i], minNodeTgt[i])\n",
    "            global res+=minCost[i]\n",
    "            push!(mst, SimpleWeightedEdge(minNodeSrc[i], minNodeTgt[i], Float64(minCost[i])))\n",
    "            # Merge Vertices that has been connected together\n",
    "            merge_target = find_root(connected_vs, minNodeSrc[i])\n",
    "#             println(\"Set \",set1,\"and set \",set2,\" will be joined to\", merge_target)\n",
    "            if merge_target!=set1\n",
    "                for j in joined_nodes[set1]\n",
    "                    push!(joined_nodes[merge_target],j)\n",
    "                end\n",
    "                delete!(joined_nodes,set1)\n",
    "            end\n",
    "            if merge_target!=set2\n",
    "                for j in joined_nodes[set2]\n",
    "                    push!(joined_nodes[merge_target],j)\n",
    "                end\n",
    "                delete!(joined_nodes,set2)\n",
    "            end\n",
    "        end\n",
    "    end\n",
    "end"
   ]
  },
  {
   "cell_type": "code",
   "execution_count": 305,
   "metadata": {},
   "outputs": [
    {
     "data": {
      "text/plain": [
       "contractVertex (generic function with 1 method)"
      ]
     },
     "execution_count": 305,
     "metadata": {},
     "output_type": "execute_result"
    }
   ],
   "source": [
    "function contractVertex()\n",
    "    for i in 1:nv(g)\n",
    "        if(minCost[i]!= MAX_INT && !in_same_set(connected_vs, minNodeSrc[i], minNodeTgt[i]))\n",
    "            # Connect the vertices, add mst to answer\n",
    "            set1 = find_root(connected_vs, minNodeSrc[i])\n",
    "            set2 = find_root(connected_vs, minNodeTgt[i])\n",
    "            union!(connected_vs, minNodeSrc[i], minNodeTgt[i])\n",
    "            global res+=minCost[i]\n",
    "            push!(mst, SimpleWeightedEdge(minNodeSrc[i], minNodeTgt[i], Float64(minCost[i])))\n",
    "            # println(minNodeSrc[i],\" \", minNodeTgt[i],\" \", minCost[i])\n",
    "            # Merge Vertices that has been connected together\n",
    "            merge_target = find_root(connected_vs, minNodeSrc[i])\n",
    "#             println(\"Set \",set1,\"and set \",set2,\" will be joined to\", merge_target)\n",
    "            if merge_target!=set1\n",
    "                for j in joined_nodes[set1]\n",
    "                    push!(joined_nodes[merge_target],j)\n",
    "                end\n",
    "                delete!(joined_nodes,set1)\n",
    "            end\n",
    "            if merge_target!=set2\n",
    "                for j in joined_nodes[set2]\n",
    "                    push!(joined_nodes[merge_target],j)\n",
    "                end\n",
    "                delete!(joined_nodes,set2)\n",
    "            end\n",
    "        end\n",
    "    end\n",
    "end"
   ]
  },
  {
   "cell_type": "code",
   "execution_count": 306,
   "metadata": {},
   "outputs": [
    {
     "data": {
      "text/plain": [
       "boruvka_MST (generic function with 2 methods)"
      ]
     },
     "execution_count": 306,
     "metadata": {},
     "output_type": "execute_result"
    }
   ],
   "source": [
    "function boruvka_MST(maxItr = convert(Int64, round(log2(nv(g))+1, digits=0)))\n",
    "    i=1\n",
    "    println(\"Max iteration: \", maxItr)\n",
    "    while(i<maxItr && length(mst)< nv(g)-1)\n",
    "        i+=1\n",
    "#         println(i, \" \", length(mst))\n",
    "        initMinCostArray()\n",
    "        findMinCostVertex()\n",
    "        contractVertex()\n",
    "#         println(res)\n",
    "#         println(length(mst))\n",
    "    end\n",
    "end"
   ]
  },
  {
   "cell_type": "code",
   "execution_count": 307,
   "metadata": {
    "scrolled": true
   },
   "outputs": [
    {
     "name": "stdout",
     "output_type": "stream",
     "text": [
      "Max iteration: 14\n",
      "2 0\n",
      "4426966\n",
      "3 7492\n",
      "5739948\n",
      "4 9478\n",
      "6018249\n",
      "5 9919\n",
      "6056833\n",
      "6 9986\n",
      "6063489\n",
      "7 9998\n",
      "6064035\n"
     ]
    }
   ],
   "source": [
    "boruvka_MST()"
   ]
  },
  {
   "cell_type": "code",
   "execution_count": 308,
   "metadata": {},
   "outputs": [
    {
     "data": {
      "text/plain": [
       "6064035"
      ]
     },
     "execution_count": 308,
     "metadata": {},
     "output_type": "execute_result"
    }
   ],
   "source": [
    "res"
   ]
  },
  {
   "cell_type": "code",
   "execution_count": 309,
   "metadata": {},
   "outputs": [
    {
     "data": {
      "text/plain": [
       "9999"
      ]
     },
     "execution_count": 309,
     "metadata": {},
     "output_type": "execute_result"
    }
   ],
   "source": [
    "length(mst)"
   ]
  },
  {
   "cell_type": "code",
   "execution_count": null,
   "metadata": {},
   "outputs": [],
   "source": []
  },
  {
   "cell_type": "code",
   "execution_count": null,
   "metadata": {},
   "outputs": [],
   "source": []
  }
 ],
 "metadata": {
  "kernelspec": {
   "display_name": "Julia 1.3.1",
   "language": "julia",
   "name": "julia-1.3"
  },
  "language_info": {
   "file_extension": ".jl",
   "mimetype": "application/julia",
   "name": "julia",
   "version": "1.3.1"
  }
 },
 "nbformat": 4,
 "nbformat_minor": 4
}

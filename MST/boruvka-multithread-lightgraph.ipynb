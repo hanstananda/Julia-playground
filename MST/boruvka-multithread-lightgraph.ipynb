{
 "cells": [
  {
   "cell_type": "code",
   "execution_count": 1,
   "metadata": {},
   "outputs": [],
   "source": [
    "using LightGraphs, SimpleWeightedGraphs\n",
    "using CPUTime\n",
    "using DelimitedFiles\n",
    "using Base\n",
    "using DataStructures\n",
    "using Base.Threads\n"
   ]
  },
  {
   "cell_type": "code",
   "execution_count": 2,
   "metadata": {},
   "outputs": [
    {
     "data": {
      "text/plain": [
       "4"
      ]
     },
     "execution_count": 2,
     "metadata": {},
     "output_type": "execute_result"
    }
   ],
   "source": [
    "nthreads()"
   ]
  },
  {
   "cell_type": "markdown",
   "metadata": {},
   "source": [
    "# Input"
   ]
  },
  {
   "cell_type": "code",
   "execution_count": 29,
   "metadata": {},
   "outputs": [],
   "source": [
    "# Run this only for diagnostic purposes\n",
    "numVertex=6\n",
    "g = SimpleWeightedGraph(numVertex)\n",
    "Edges = [(1,2,1), (1,3,3), (2,3,1), (2,4,7), (3,5,1), (2,5,3), (4,5,1), (4,6,1), (5,6,6)]; # Manual edges input for initial sanity check, format is (src, dst, weight)\n",
    "for edge in Edges\n",
    "    add_edge!(g, edge[1], edge[2], edge[3])\n",
    "end"
   ]
  },
  {
   "cell_type": "code",
   "execution_count": 13,
   "metadata": {
    "scrolled": true
   },
   "outputs": [
    {
     "data": {
      "text/plain": [
       "{100000, 5000000} undirected simple Int64 graph with Float64 weights"
      ]
     },
     "execution_count": 13,
     "metadata": {},
     "output_type": "execute_result"
    }
   ],
   "source": [
    "function readDataFromFile(filename=\"in7.txt\")\n",
    "    open(filename, \"r\") do f \n",
    "        n, m = split(readline(f))\n",
    "        n = parse(Int, n)\n",
    "#         cnt=0\n",
    "        sources = Vector{Int}()\n",
    "        destinations = Vector{Int}()\n",
    "        weights = Vector{Float64}()\n",
    "        for ln in eachline(f)\n",
    "#             a,b,c = split(ln)\n",
    "            a,b,c = readdlm(IOBuffer(ln), Int)\n",
    "            if(a==0)\n",
    "                a=n\n",
    "            end\n",
    "            if(b==0)\n",
    "                b=n\n",
    "            end\n",
    "#             cnt+=1\n",
    "#             if(cnt%10000==0)\n",
    "#                 println(cnt)\n",
    "#             end\n",
    "            if(c ==0)\n",
    "                push!(sources,a)\n",
    "                push!(destinations,b)\n",
    "                push!(weights,0.01)\n",
    "            else\n",
    "                push!(sources,a)\n",
    "                push!(destinations,b)\n",
    "                push!(weights,c)\n",
    "            end\n",
    "        end\n",
    "        g = SimpleWeightedGraph(sources, destinations, weights)\n",
    "        return g\n",
    "    end\n",
    "end\n",
    "# for in_n_10e5_m_5e6.in, generate the file from graph_generator.ipynb\n",
    "g = readDataFromFile(\"in_n_10e5_m_5e6.in\")\n",
    "# g = readDataFromFile(\"in7.txt\")"
   ]
  },
  {
   "cell_type": "markdown",
   "metadata": {},
   "source": [
    "# Initialize Internal Variables"
   ]
  },
  {
   "cell_type": "code",
   "execution_count": 143,
   "metadata": {},
   "outputs": [
    {
     "data": {
      "text/plain": [
       "IntDisjointSets([1, 2, 3, 4, 5, 6, 7, 8, 9, 10  …  99991, 99992, 99993, 99994, 99995, 99996, 99997, 99998, 99999, 100000], [0, 0, 0, 0, 0, 0, 0, 0, 0, 0  …  0, 0, 0, 0, 0, 0, 0, 0, 0, 0], 100000)"
      ]
     },
     "execution_count": 143,
     "metadata": {},
     "output_type": "execute_result"
    }
   ],
   "source": [
    "connected_vs = IntDisjointSets(nv(g))"
   ]
  },
  {
   "cell_type": "code",
   "execution_count": 144,
   "metadata": {},
   "outputs": [],
   "source": [
    "joined_nodes = Dict{Int, Vector{Int}}()\n",
    "for j in 1:nv(g)\n",
    "    i = find_root(connected_vs,j)\n",
    "    if(haskey(joined_nodes,i))\n",
    "        push!(joined_nodes[i],j)\n",
    "    else\n",
    "        joined_nodes[i] = [j]\n",
    "    end\n",
    "end"
   ]
  },
  {
   "cell_type": "code",
   "execution_count": 145,
   "metadata": {},
   "outputs": [
    {
     "data": {
      "text/plain": [
       "0"
      ]
     },
     "execution_count": 145,
     "metadata": {},
     "output_type": "execute_result"
    }
   ],
   "source": [
    "mst = Vector{edgetype(g)}()\n",
    "sizehint!(mst, nv(g) - 1)\n",
    "res =0"
   ]
  },
  {
   "cell_type": "code",
   "execution_count": 146,
   "metadata": {},
   "outputs": [],
   "source": [
    "MAX_INT=2000000000;\n",
    "minCost = fill(MAX_INT, nv(g)+1);\n",
    "minNodeTgt = Vector{Int}(1:nv(g)+1);\n",
    "minNodeSrc = Vector{Int}(1:nv(g)+1);"
   ]
  },
  {
   "cell_type": "markdown",
   "metadata": {},
   "source": [
    "# Internal Functions"
   ]
  },
  {
   "cell_type": "code",
   "execution_count": 109,
   "metadata": {},
   "outputs": [
    {
     "data": {
      "text/plain": [
       "initMinCostArray (generic function with 1 method)"
      ]
     },
     "execution_count": 109,
     "metadata": {},
     "output_type": "execute_result"
    }
   ],
   "source": [
    "function initMinCostArray()\n",
    "    for i = 1:nv(g)\n",
    "        minCost[i] = MAX_INT\n",
    "        minNodeTgt[i] = i\n",
    "        minNodeSrc[i] = i\n",
    "    end\n",
    "end"
   ]
  },
  {
   "cell_type": "code",
   "execution_count": 135,
   "metadata": {},
   "outputs": [
    {
     "data": {
      "text/plain": [
       "findMinCostVertex (generic function with 1 method)"
      ]
     },
     "execution_count": 135,
     "metadata": {},
     "output_type": "execute_result"
    }
   ],
   "source": [
    "function findMinCostVertex()\n",
    "    sets = Vector{Int}(first.(keys(joined_nodes)))\n",
    "    @threads for i in sets\n",
    "        # println(\"Accessing set \",i, \" with sources \", joined_nodes[i])\n",
    "        for src in joined_nodes[i]\n",
    "            for dst in neighbors(g, src)\n",
    "                weight = floor(Int,get_weight(g,src,dst))\n",
    "                # println(src,\" -> \", dst, \"=\", weight, \" \",  !in_same_set(connected_vs, src, dst) )\n",
    "                root_src = find_root(connected_vs, src)\n",
    "                root_dst = find_root(connected_vs, dst)\n",
    "                if root_src != root_dst\n",
    "                    if(minCost[root_src] > weight )\n",
    "                        minCost[root_src] = weight\n",
    "                        minNodeTgt[root_src] = dst\n",
    "                        minNodeSrc[root_src] = src\n",
    "                    end\n",
    "                end\n",
    "            end\n",
    "            \n",
    "        end\n",
    "    end\n",
    "end"
   ]
  },
  {
   "cell_type": "code",
   "execution_count": 99,
   "metadata": {},
   "outputs": [
    {
     "data": {
      "text/plain": [
       "contractVertex (generic function with 1 method)"
      ]
     },
     "execution_count": 99,
     "metadata": {},
     "output_type": "execute_result"
    }
   ],
   "source": [
    "function contractVertex()\n",
    "    for i in 1:nv(g)\n",
    "        if(minCost[i]!= MAX_INT && !in_same_set(connected_vs, minNodeSrc[i], minNodeTgt[i]))\n",
    "            # Connect the vertices, add mst to answer\n",
    "            set1 = find_root(connected_vs, minNodeSrc[i])\n",
    "            set2 = find_root(connected_vs, minNodeTgt[i])\n",
    "            union!(connected_vs, minNodeSrc[i], minNodeTgt[i])\n",
    "            global res+=minCost[i]\n",
    "            push!(mst, SimpleWeightedEdge(minNodeSrc[i], minNodeTgt[i], Float64(minCost[i])))\n",
    "            # Merge Vertices that has been connected together\n",
    "            merge_target = find_root(connected_vs, minNodeSrc[i])\n",
    "#             println(\"Set \",set1,\"and set \",set2,\" will be joined to\", merge_target)\n",
    "            if merge_target!=set1\n",
    "                for j in joined_nodes[set1]\n",
    "                    push!(joined_nodes[merge_target],j)\n",
    "                end\n",
    "                delete!(joined_nodes,set1)\n",
    "            end\n",
    "            if merge_target!=set2\n",
    "                for j in joined_nodes[set2]\n",
    "                    push!(joined_nodes[merge_target],j)\n",
    "                end\n",
    "                delete!(joined_nodes,set2)\n",
    "            end\n",
    "        end\n",
    "    end\n",
    "end"
   ]
  },
  {
   "cell_type": "code",
   "execution_count": 100,
   "metadata": {},
   "outputs": [
    {
     "data": {
      "text/plain": [
       "contractVertex (generic function with 1 method)"
      ]
     },
     "execution_count": 100,
     "metadata": {},
     "output_type": "execute_result"
    }
   ],
   "source": [
    "function contractVertex()\n",
    "    for i in 1:nv(g)\n",
    "        if(minCost[i]!= MAX_INT && !in_same_set(connected_vs, minNodeSrc[i], minNodeTgt[i]))\n",
    "            # Connect the vertices, add mst to answer\n",
    "            set1 = find_root(connected_vs, minNodeSrc[i])\n",
    "            set2 = find_root(connected_vs, minNodeTgt[i])\n",
    "            union!(connected_vs, minNodeSrc[i], minNodeTgt[i])\n",
    "            global res+=minCost[i]\n",
    "            push!(mst, SimpleWeightedEdge(minNodeSrc[i], minNodeTgt[i], Float64(minCost[i])))\n",
    "            # println(minNodeSrc[i],\" \", minNodeTgt[i],\" \", minCost[i])\n",
    "            # Merge Vertices that has been connected together\n",
    "            merge_target = find_root(connected_vs, minNodeSrc[i])\n",
    "#             println(\"Set \",set1,\"and set \",set2,\" will be joined to\", merge_target)\n",
    "            if merge_target!=set1\n",
    "                for j in joined_nodes[set1]\n",
    "                    push!(joined_nodes[merge_target],j)\n",
    "                end\n",
    "                delete!(joined_nodes,set1)\n",
    "            end\n",
    "            if merge_target!=set2\n",
    "                for j in joined_nodes[set2]\n",
    "                    push!(joined_nodes[merge_target],j)\n",
    "                end\n",
    "                delete!(joined_nodes,set2)\n",
    "            end\n",
    "        end\n",
    "    end\n",
    "end"
   ]
  },
  {
   "cell_type": "markdown",
   "metadata": {},
   "source": [
    "# Main Function"
   ]
  },
  {
   "cell_type": "code",
   "execution_count": 141,
   "metadata": {},
   "outputs": [
    {
     "data": {
      "text/plain": [
       "boruvka_MST (generic function with 2 methods)"
      ]
     },
     "execution_count": 141,
     "metadata": {},
     "output_type": "execute_result"
    }
   ],
   "source": [
    "function boruvka_MST(maxItr = convert(Int64, round(log2(nv(g))+1, digits=0)))\n",
    "    i=1\n",
    "    println(\"Max iteration: \", maxItr)\n",
    "    while(i<maxItr && length(mst)< nv(g)-1)\n",
    "        i+=1\n",
    "        println(i, \" \", length(mst))\n",
    "        initMinCostArray()\n",
    "        findMinCostVertex()\n",
    "        contractVertex()\n",
    "#         println(res)\n",
    "#         println(length(mst))\n",
    "    end\n",
    "end"
   ]
  },
  {
   "cell_type": "code",
   "execution_count": null,
   "metadata": {
    "scrolled": true
   },
   "outputs": [
    {
     "name": "stdout",
     "output_type": "stream",
     "text": [
      "Max iteration: 18\n",
      "2 0\n",
      "3 75092\n",
      "4 94903\n",
      "5 99130\n",
      "6 99868\n"
     ]
    }
   ],
   "source": [
    "@time @CPUtime boruvka_MST()"
   ]
  },
  {
   "cell_type": "code",
   "execution_count": null,
   "metadata": {},
   "outputs": [],
   "source": [
    "res"
   ]
  },
  {
   "cell_type": "code",
   "execution_count": null,
   "metadata": {},
   "outputs": [],
   "source": [
    "length(mst)"
   ]
  },
  {
   "cell_type": "code",
   "execution_count": null,
   "metadata": {},
   "outputs": [],
   "source": [
    "6018132840"
   ]
  }
 ],
 "metadata": {
  "kernelspec": {
   "display_name": "Julia 1.3.1",
   "language": "julia",
   "name": "julia-1.3"
  },
  "language_info": {
   "file_extension": ".jl",
   "mimetype": "application/julia",
   "name": "julia",
   "version": "1.3.1"
  }
 },
 "nbformat": 4,
 "nbformat_minor": 4
}

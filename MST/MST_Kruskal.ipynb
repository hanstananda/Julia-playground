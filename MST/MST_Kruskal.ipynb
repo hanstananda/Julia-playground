{
 "cells": [
  {
   "cell_type": "code",
   "execution_count": 1,
   "metadata": {},
   "outputs": [],
   "source": [
    "using DataStructures\n",
    "using CPUTime\n",
    "using DelimitedFiles\n",
    "using Base"
   ]
  },
  {
   "cell_type": "code",
   "execution_count": null,
   "metadata": {},
   "outputs": [],
   "source": []
  },
  {
   "cell_type": "code",
   "execution_count": 2,
   "metadata": {},
   "outputs": [
    {
     "data": {
      "text/plain": [
       "6-element Array{Tuple{Int64,Int64,Int64},1}:\n",
       " (4, 1, 2)\n",
       " (1, 2, 1)\n",
       " (2, 3, 1)\n",
       " (3, 4, 1)\n",
       " (4, 2, 3)\n",
       " (1, 3, 5)"
      ]
     },
     "execution_count": 2,
     "metadata": {},
     "output_type": "execute_result"
    }
   ],
   "source": [
    "numVertex=4\n",
    "Edges = [(4,1,2), (1,2,1), (2,3,1), (3,4,1), (4,2,3), (1,3,5)]"
   ]
  },
  {
   "cell_type": "code",
   "execution_count": 3,
   "metadata": {},
   "outputs": [
    {
     "data": {
      "text/plain": [
       "9-element Array{Tuple{Int64,Int64,Int64},1}:\n",
       " (6, 1, 1)\n",
       " (6, 2, 3)\n",
       " (1, 2, 1)\n",
       " (1, 3, 7)\n",
       " (2, 4, 1)\n",
       " (1, 4, 3)\n",
       " (3, 4, 1)\n",
       " (3, 5, 1)\n",
       " (4, 5, 6)"
      ]
     },
     "execution_count": 3,
     "metadata": {},
     "output_type": "execute_result"
    }
   ],
   "source": [
    "numVertex=6\n",
    "Edges = [\n",
    "(6, 1, 1),\n",
    "(6, 2, 3),\n",
    "(1, 2, 1),\n",
    "(1, 3, 7),\n",
    "(2, 4, 1),\n",
    "(1, 4, 3),\n",
    "(3, 4, 1),\n",
    "(3, 5, 1),\n",
    "(4, 5, 6)]\n",
    "# source, destionation, weight"
   ]
  },
  {
   "cell_type": "code",
   "execution_count": 2,
   "metadata": {},
   "outputs": [
    {
     "data": {
      "text/plain": [
       "100000"
      ]
     },
     "execution_count": 2,
     "metadata": {},
     "output_type": "execute_result"
    }
   ],
   "source": [
    "Edges = Vector{}()\n",
    "function readDataFromFile(filename=\"in_n_10e5_m_5e6.in\")\n",
    "    open(filename, \"r\") do f \n",
    "        n, m = split(readline(f))\n",
    "        n = parse(Int, n)\n",
    "        sizehint!(Edges, parse(Int, m))\n",
    "#         println(n,\" \",m)\n",
    "        for ln in eachline(f)\n",
    "#             a,b,c = split(ln)\n",
    "            a,b,c = readdlm(IOBuffer(ln), Int)\n",
    "            if(a==0)\n",
    "                a=n\n",
    "            end\n",
    "            if(b==0)\n",
    "                b=n\n",
    "            end\n",
    "            push!(Edges, (a,b,c))\n",
    "#             println(a,\" \",b,\" \",c)\n",
    "        end\n",
    "        return n\n",
    "    end\n",
    "end\n",
    "numVertex = readDataFromFile()"
   ]
  },
  {
   "cell_type": "code",
   "execution_count": 53,
   "metadata": {},
   "outputs": [
    {
     "data": {
      "text/plain": [
       "0-element Array{Any,1}"
      ]
     },
     "execution_count": 53,
     "metadata": {},
     "output_type": "execute_result"
    }
   ],
   "source": [
    "uf = IntDisjointSets(numVertex+1)\n",
    "\n",
    "weights = Vector{}()\n",
    "sizehint!(weights, length(Edges))\n",
    "\n",
    "mst= Vector{}()\n",
    "sizehint!(mst, numVertex)"
   ]
  },
  {
   "cell_type": "code",
   "execution_count": 54,
   "metadata": {},
   "outputs": [],
   "source": [
    "for e in Edges\n",
    "    push!(weights, (e[3], (src=e[1],dst= e[2])))\n",
    "end"
   ]
  },
  {
   "cell_type": "code",
   "execution_count": 5,
   "metadata": {},
   "outputs": [
    {
     "data": {
      "text/plain": [
       "kruskal (generic function with 1 method)"
      ]
     },
     "execution_count": 5,
     "metadata": {},
     "output_type": "execute_result"
    }
   ],
   "source": [
    "Base.@pure function kruskal(EdgeWeights, MST, UF)\n",
    "    if isempty(EdgeWeights)\n",
    "        return 0\n",
    "    end\n",
    "    sortedEdgeWeights = sort(EdgeWeights)\n",
    "    mst_weight=0\n",
    "    for weight in sortedEdgeWeights\n",
    "        c, e = weight\n",
    "        if !in_same_set(uf, e.src, e.dst)\n",
    "            union!(uf, e.src, e.dst)\n",
    "            push!(mst, e)    \n",
    "            mst_weight+=c\n",
    "        end\n",
    "    end\n",
    "    return mst_weight\n",
    "end    "
   ]
  },
  {
   "cell_type": "code",
   "execution_count": 55,
   "metadata": {},
   "outputs": [],
   "source": [
    "using Random\n",
    "rng = MersenneTwister();"
   ]
  },
  {
   "cell_type": "code",
   "execution_count": 56,
   "metadata": {},
   "outputs": [
    {
     "data": {
      "text/plain": [
       "filterKruskal (generic function with 1 method)"
      ]
     },
     "execution_count": 56,
     "metadata": {},
     "output_type": "execute_result"
    }
   ],
   "source": [
    "Base.@pure function filterKruskal(EdgeWeights, MST, UF)\n",
    "    if isempty(EdgeWeights)\n",
    "        return 0\n",
    "    end\n",
    "    if kruskalThreshold(length(weights), length(MST))\n",
    "        # println(\"pre-start kruskal \",length(EdgeWeights) ,\" at\", CPUtime_us())\n",
    "        tmp =  @async kruskal(EdgeWeights, MST, UF)\n",
    "        println(\"allocated kruskal \",length(EdgeWeights) ,\" at\", CPUtime_us())\n",
    "        res = fetch(tmp)\n",
    "        println(\"finished kruskal \",length(EdgeWeights) ,\" at\", CPUtime_us())\n",
    "        return res\n",
    "    else\n",
    "        sampler = Random.Sampler(rng, EdgeWeights)\n",
    "        pivot = rand(rng, sampler)\n",
    "        \n",
    "        # Partition\n",
    "        EdgeWeightsLeft = Vector{}()\n",
    "        EdgeWeightsRight = Vector{}()\n",
    "        for EdgeWeight in EdgeWeights\n",
    "            if EdgeWeight[1] < pivot[1]\n",
    "                push!(EdgeWeightsLeft, EdgeWeight)\n",
    "            else\n",
    "                push!(EdgeWeightsRight, EdgeWeight)\n",
    "            end\n",
    "        end\n",
    "#         println(\"pivot = \",pivot)\n",
    "#         println(\"left = \",length(EdgeWeightsLeft))\n",
    "#         println(\"right = \",length(EdgeWeightsRight))\n",
    "        println(\"Partition \",length(EdgeWeightsLeft),\" \",length(EdgeWeightsRight) ,\" going to start at \", CPUtime_us())\n",
    "        leftMST = @async filterKruskal(EdgeWeightsLeft, MST, UF)\n",
    "        FilteredEdgeWeightsRight = filter(EdgeWeightsRight, UF)\n",
    "        rightMST = @async filterKruskal(fetch(FilteredEdgeWeightsRight), MST, UF)\n",
    "#         println(Threads.nthreads())\n",
    "        println(\"Partition \",length(EdgeWeightsLeft),\" \",length(EdgeWeightsRight) ,\" allocated at \", CPUtime_us())\n",
    "        res = fetch(leftMST) + fetch(rightMST)\n",
    "        println(\"Partition \",length(EdgeWeightsLeft),\" \",length(EdgeWeightsRight) ,\" finished at \", CPUtime_us())\n",
    "        return res\n",
    "    end\n",
    "end"
   ]
  },
  {
   "cell_type": "code",
   "execution_count": 57,
   "metadata": {},
   "outputs": [
    {
     "data": {
      "text/plain": [
       "kruskalThreshold (generic function with 1 method)"
      ]
     },
     "execution_count": 57,
     "metadata": {},
     "output_type": "execute_result"
    }
   ],
   "source": [
    "Base.@pure function kruskalThreshold(EdgesLength, MSTLength)\n",
    "    sp = Random.Sampler(rng, 1:EdgesLength) # or Random.Sampler(MersenneTwister, 1:20)\n",
    "#     return EdgesLength <=10000\n",
    "    return EdgesLength/1.25<=rand(rng, sp) || EdgesLength <=1000\n",
    "end"
   ]
  },
  {
   "cell_type": "code",
   "execution_count": 58,
   "metadata": {},
   "outputs": [
    {
     "data": {
      "text/plain": [
       "filter (generic function with 1 method)"
      ]
     },
     "execution_count": 58,
     "metadata": {},
     "output_type": "execute_result"
    }
   ],
   "source": [
    "Base.@pure function filter(EdgeWeights, UF)\n",
    "    FilteredEdgeWeights = Vector{}()\n",
    "    for EdgeWeight in EdgeWeights\n",
    "        if !in_same_set(UF, EdgeWeight[2].src, EdgeWeight[2].dst)\n",
    "            push!(FilteredEdgeWeights, EdgeWeight)\n",
    "        end\n",
    "    end\n",
    "    return FilteredEdgeWeights\n",
    "end"
   ]
  },
  {
   "cell_type": "code",
   "execution_count": 59,
   "metadata": {},
   "outputs": [
    {
     "name": "stdout",
     "output_type": "stream",
     "text": [
      "Partition 268535 4731465 going to start at 279439827\n",
      "Partition 268535 4731465 allocated at 284032377\n",
      "Partition 27117 241418 going to start at 284185731\n",
      "Partition 27117 241418 allocated at 286948188\n",
      "Partition 3453851 1277614 going to start at 286747129\n",
      "Partition 3453851 1277614 allocated at 288240890\n",
      "Partition 7397 19720 going to start at 286965884\n",
      "Partition 7397 19720 allocated at 288260161\n",
      "Partition 7750 233668 going to start at 287253727\n",
      "Partition 7750 233668 allocated at 288464044\n",
      "pre-start kruskal 3453851 at288240980\n",
      "allocated kruskal 3453851 at288604181\n",
      "finished kruskal 3453851 at297514893\n",
      "pre-start kruskal 1277614 at288241011\n",
      "allocated kruskal 1277614 at297515060\n",
      "finished kruskal 1277614 at300403324\n",
      "Partition 2246 5151 going to start at 288265047\n",
      "Partition 2246 5151 allocated at 300408219\n",
      "Partition 11500 8220 going to start at 288277194\n",
      "Partition 11500 8220 allocated at 300416877\n",
      "Partition 5056 2694 going to start at 288469458\n",
      "Partition 5056 2694 allocated at 300426809\n",
      "Partition 211109 22559 going to start at 288603712\n",
      "Partition 211109 22559 allocated at 300444708\n",
      "Partition 3453851 1277614 finished at 300403443\n",
      "Partition 299 1947 going to start at 300409845\n",
      "Partition 299 1947 allocated at 300572925\n",
      "Partition 8721 2779 going to start at 300424529\n",
      "Partition 8721 2779 allocated at 300575765\n",
      "pre-start kruskal 5056 at300426852\n",
      "allocated kruskal 5056 at300575981\n",
      "finished kruskal 5056 at300583573\n",
      "Partition 203248 7861 going to start at 300570513\n",
      "Partition 203248 7861 allocated at 300589940\n",
      "Partition 211 88 going to start at 300573265\n",
      "Partition 211 88 allocated at 300707827\n",
      "pre-start kruskal 8721 at300575826\n",
      "allocated kruskal 8721 at300708067\n",
      "finished kruskal 8721 at300720235\n",
      "Partition 5056 2694 finished at 300583741\n",
      "Partition 174331 28917 going to start at 300707146\n",
      "Partition 174331 28917 allocated at 300744010\n",
      "pre-start kruskal 211 at300707893\n",
      "allocated kruskal 211 at300845416\n",
      "finished kruskal 211 at300845732\n",
      "Partition 8721 2779 finished at 300720376\n",
      "Partition 8860 165471 going to start at 300844934\n",
      "Partition 8860 165471 allocated at 300967419\n",
      "Partition 211 88 finished at 300845835\n",
      "Partition 11500 8220 finished at 300845932\n",
      "Partition 1779 7081 going to start at 300972774\n",
      "Partition 1779 7081 allocated at 300979629\n",
      "Partition 299 1947 finished at 300973297\n",
      "Partition 1139 640 going to start at 300980700\n",
      "Partition 1139 640 allocated at 300981625\n",
      "Partition 2246 5151 finished at 300980861\n",
      "Partition 518 621 going to start at 300982544\n",
      "Partition 518 621 allocated at 300983276\n",
      "Partition 7397 19720 finished at 300982727\n",
      "pre-start kruskal 518 at300983302\n",
      "allocated kruskal 518 at300983496\n",
      "finished kruskal 518 at300984140\n",
      "Partition 518 621 finished at 300984198\n",
      "Partition 1139 640 finished at 300984269\n",
      "Partition 1779 7081 finished at 300984398\n",
      "Partition 8860 165471 finished at 300984471\n",
      "Partition 174331 28917 finished at 300984541\n",
      "Partition 203248 7861 finished at 300984618\n",
      "Partition 211109 22559 finished at 300984688\n",
      "Partition 7750 233668 finished at 300984758\n",
      "Partition 27117 241418 finished at 300984827\n",
      "Partition 268535 4731465 finished at 300984900\n",
      "elapsed CPU time: 24.564456 seconds\n",
      " 25.747188 seconds (143.45 M allocations: 3.359 GiB, 7.78% gc time)\n"
     ]
    },
    {
     "data": {
      "text/plain": [
       "32762056626"
      ]
     },
     "execution_count": 59,
     "metadata": {},
     "output_type": "execute_result"
    }
   ],
   "source": [
    "@time @CPUtime filterKruskal(weights, mst, uf)"
   ]
  },
  {
   "cell_type": "code",
   "execution_count": 14,
   "metadata": {},
   "outputs": [
    {
     "name": "stdout",
     "output_type": "stream",
     "text": [
      "elapsed CPU time: 12.026884 seconds\n",
      " 12.189014 seconds (71.03 M allocations: 1.725 GiB, 9.60% gc time)\n"
     ]
    },
    {
     "data": {
      "text/plain": [
       "5996149158"
      ]
     },
     "execution_count": 14,
     "metadata": {},
     "output_type": "execute_result"
    }
   ],
   "source": [
    "@time @CPUtime kruskal(weights, mst, uf)\n"
   ]
  },
  {
   "cell_type": "code",
   "execution_count": null,
   "metadata": {},
   "outputs": [],
   "source": [
    "Threads.nthreads()"
   ]
  },
  {
   "cell_type": "code",
   "execution_count": null,
   "metadata": {},
   "outputs": [],
   "source": []
  },
  {
   "cell_type": "code",
   "execution_count": null,
   "metadata": {},
   "outputs": [],
   "source": []
  },
  {
   "cell_type": "code",
   "execution_count": null,
   "metadata": {},
   "outputs": [],
   "source": []
  },
  {
   "cell_type": "code",
   "execution_count": null,
   "metadata": {},
   "outputs": [],
   "source": []
  }
 ],
 "metadata": {
  "kernelspec": {
   "display_name": "Julia 1.3.1",
   "language": "julia",
   "name": "julia-1.3"
  },
  "language_info": {
   "file_extension": ".jl",
   "mimetype": "application/julia",
   "name": "julia",
   "version": "1.3.1"
  }
 },
 "nbformat": 4,
 "nbformat_minor": 4
}

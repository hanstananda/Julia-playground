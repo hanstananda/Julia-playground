{
 "cells": [
  {
   "cell_type": "code",
   "execution_count": 1,
   "metadata": {},
   "outputs": [],
   "source": [
    "using DataStructures\n",
    "using CPUTime\n",
    "using DelimitedFiles\n",
    "using Base\n",
    "using Distributed"
   ]
  },
  {
   "cell_type": "code",
   "execution_count": null,
   "metadata": {},
   "outputs": [],
   "source": []
  },
  {
   "cell_type": "code",
   "execution_count": 2,
   "metadata": {},
   "outputs": [
    {
     "data": {
      "text/plain": [
       "6-element Array{Tuple{Int64,Int64,Int64},1}:\n",
       " (4, 1, 2)\n",
       " (1, 2, 1)\n",
       " (2, 3, 1)\n",
       " (3, 4, 1)\n",
       " (4, 2, 3)\n",
       " (1, 3, 5)"
      ]
     },
     "execution_count": 2,
     "metadata": {},
     "output_type": "execute_result"
    }
   ],
   "source": [
    "numVertex=4\n",
    "Edges = [(4,1,2), (1,2,1), (2,3,1), (3,4,1), (4,2,3), (1,3,5)]"
   ]
  },
  {
   "cell_type": "code",
   "execution_count": 3,
   "metadata": {},
   "outputs": [
    {
     "data": {
      "text/plain": [
       "9-element Array{Tuple{Int64,Int64,Int64},1}:\n",
       " (6, 1, 1)\n",
       " (6, 2, 3)\n",
       " (1, 2, 1)\n",
       " (1, 3, 7)\n",
       " (2, 4, 1)\n",
       " (1, 4, 3)\n",
       " (3, 4, 1)\n",
       " (3, 5, 1)\n",
       " (4, 5, 6)"
      ]
     },
     "execution_count": 3,
     "metadata": {},
     "output_type": "execute_result"
    }
   ],
   "source": [
    "numVertex=6\n",
    "Edges = [\n",
    "(6, 1, 1),\n",
    "(6, 2, 3),\n",
    "(1, 2, 1),\n",
    "(1, 3, 7),\n",
    "(2, 4, 1),\n",
    "(1, 4, 3),\n",
    "(3, 4, 1),\n",
    "(3, 5, 1),\n",
    "(4, 5, 6)]\n",
    "# source, destionation, weight"
   ]
  },
  {
   "cell_type": "code",
   "execution_count": 2,
   "metadata": {},
   "outputs": [
    {
     "data": {
      "text/plain": [
       "100000"
      ]
     },
     "execution_count": 2,
     "metadata": {},
     "output_type": "execute_result"
    }
   ],
   "source": [
    "Edges = Vector{}()\n",
    "function readDataFromFile(filename=\"in_n_10e5_m_5e6.in\")\n",
    "    open(filename, \"r\") do f \n",
    "        n, m = split(readline(f))\n",
    "        n = parse(Int, n)\n",
    "        sizehint!(Edges, parse(Int, m))\n",
    "#         println(n,\" \",m)\n",
    "        for ln in eachline(f)\n",
    "#             a,b,c = split(ln)\n",
    "            a,b,c = readdlm(IOBuffer(ln), Int)\n",
    "            if(a==0)\n",
    "                a=n\n",
    "            end\n",
    "            if(b==0)\n",
    "                b=n\n",
    "            end\n",
    "            push!(Edges, (a,b,c))\n",
    "#             println(a,\" \",b,\" \",c)\n",
    "        end\n",
    "        return n\n",
    "    end\n",
    "end\n",
    "numVertex = readDataFromFile()"
   ]
  },
  {
   "cell_type": "code",
   "execution_count": 38,
   "metadata": {},
   "outputs": [
    {
     "data": {
      "text/plain": [
       "0-element Array{Any,1}"
      ]
     },
     "execution_count": 38,
     "metadata": {},
     "output_type": "execute_result"
    }
   ],
   "source": [
    "uf = IntDisjointSets(numVertex+1)\n",
    "\n",
    "weights = Vector{}()\n",
    "sizehint!(weights, length(Edges))\n",
    "\n",
    "mst= Vector{}()\n",
    "sizehint!(mst, numVertex)"
   ]
  },
  {
   "cell_type": "code",
   "execution_count": 39,
   "metadata": {},
   "outputs": [],
   "source": [
    "for e in Edges\n",
    "    push!(weights, (e[3], (src=e[1],dst= e[2])))\n",
    "end"
   ]
  },
  {
   "cell_type": "code",
   "execution_count": 26,
   "metadata": {},
   "outputs": [
    {
     "data": {
      "text/plain": [
       "kruskal (generic function with 1 method)"
      ]
     },
     "execution_count": 26,
     "metadata": {},
     "output_type": "execute_result"
    }
   ],
   "source": [
    "Base.@pure function kruskal(EdgeWeights, MST, UF)\n",
    "    if isempty(EdgeWeights)\n",
    "        return 0\n",
    "    end\n",
    "    sortedEdgeWeights = sort(EdgeWeights)\n",
    "    mst_weight=0\n",
    "    for weight in sortedEdgeWeights\n",
    "        c, e = weight\n",
    "        if !in_same_set(uf, e.src, e.dst)\n",
    "            union!(uf, e.src, e.dst)\n",
    "            push!(mst, e)    \n",
    "            mst_weight+=c\n",
    "        end\n",
    "    end\n",
    "    return mst_weight\n",
    "end    "
   ]
  },
  {
   "cell_type": "code",
   "execution_count": 27,
   "metadata": {},
   "outputs": [],
   "source": [
    "using Random\n",
    "rng = MersenneTwister();"
   ]
  },
  {
   "cell_type": "code",
   "execution_count": 30,
   "metadata": {},
   "outputs": [
    {
     "data": {
      "text/plain": [
       "filterKruskal (generic function with 1 method)"
      ]
     },
     "execution_count": 30,
     "metadata": {},
     "output_type": "execute_result"
    }
   ],
   "source": [
    "Base.@pure function filterKruskal(EdgeWeights, MST, UF)\n",
    "    if isempty(EdgeWeights)\n",
    "        return 0\n",
    "    end\n",
    "    if kruskalThreshold(length(EdgeWeights), length(MST))\n",
    "        # println(\"pre-start kruskal \",length(EdgeWeights) ,\" at\", CPUtime_us())\n",
    "        tmp =  @async kruskal(EdgeWeights, MST, UF)\n",
    "        # println(\"allocated kruskal \",length(EdgeWeights) ,\" at\", CPUtime_us())\n",
    "        res = fetch(tmp)\n",
    "        # println(\"finished kruskal \",length(EdgeWeights) ,\" at\", CPUtime_us())\n",
    "        return res\n",
    "    else\n",
    "        sampler = Random.Sampler(rng, EdgeWeights)\n",
    "        pivot = rand(rng, sampler)\n",
    "        \n",
    "        # Partition\n",
    "        EdgeWeightsLeft = Vector{}()\n",
    "        sizehint!(EdgeWeightsLeft, length(EdgeWeights)÷2)\n",
    "\n",
    "        EdgeWeightsRight = Vector{}()\n",
    "        sizehint!(EdgeWeightsRight, length(EdgeWeights)÷2)\n",
    "\n",
    "        for EdgeWeight in EdgeWeights\n",
    "            if EdgeWeight[1] < pivot[1]\n",
    "                push!(EdgeWeightsLeft, EdgeWeight)\n",
    "            else\n",
    "                push!(EdgeWeightsRight, EdgeWeight)\n",
    "            end\n",
    "        end\n",
    "        \n",
    "#         pmap(x->(x[1]<pivot[1]) ? push!(EdgeWeightsLeft, x) : push!(EdgeWeightsRight, x), EdgeWeights)\n",
    "#         println(\"pivot = \",pivot)\n",
    "#         println(\"left = \",length(EdgeWeightsLeft))\n",
    "#         println(\"right = \",length(EdgeWeightsRight))\n",
    "#         println(\"Partition \",length(EdgeWeightsLeft),\" \",length(EdgeWeightsRight) ,\" going to start at \", CPUtime_us())\n",
    "        leftMST = @async filterKruskal(EdgeWeightsLeft, MST, UF)\n",
    "        FilteredEdgeWeightsRight = filter(EdgeWeightsRight, UF)\n",
    "        rightMST = @async filterKruskal(FilteredEdgeWeightsRight, MST, UF)\n",
    "        # println(\"Partition \",length(EdgeWeightsLeft),\" \",length(EdgeWeightsRight) ,\" allocated at \", CPUtime_us())\n",
    "        res = fetch(leftMST) + fetch(rightMST)\n",
    "        # println(\"Partition \",length(EdgeWeightsLeft),\" \",length(EdgeWeightsRight) ,\" finished at \", CPUtime_us())\n",
    "        return res\n",
    "    end\n",
    "end"
   ]
  },
  {
   "cell_type": "code",
   "execution_count": 32,
   "metadata": {},
   "outputs": [
    {
     "data": {
      "text/plain": [
       "filterKruskal (generic function with 1 method)"
      ]
     },
     "execution_count": 32,
     "metadata": {},
     "output_type": "execute_result"
    }
   ],
   "source": [
    "Base.@pure function filterKruskal(EdgeWeights, MST, UF)\n",
    "    if isempty(EdgeWeights)\n",
    "        return 0\n",
    "    end\n",
    "    if kruskalThreshold(length(EdgeWeights), length(MST))\n",
    "        # println(\"pre-start kruskal \",length(EdgeWeights) ,\" at\", CPUtime_us())\n",
    "        tmp = kruskal(EdgeWeights, MST, UF)\n",
    "        # println(\"allocated kruskal \",length(EdgeWeights) ,\" at\", CPUtime_us())\n",
    "        res = tmp\n",
    "        # println(\"finished kruskal \",length(EdgeWeights) ,\" at\", CPUtime_us())\n",
    "        return res\n",
    "    else\n",
    "        sampler = Random.Sampler(rng, EdgeWeights)\n",
    "        pivot = rand(rng, sampler)\n",
    "        \n",
    "        # Partition\n",
    "        EdgeWeightsLeft = Vector{}()\n",
    "        sizehint!(EdgeWeightsLeft, length(EdgeWeights)÷2)\n",
    "\n",
    "        EdgeWeightsRight = Vector{}()\n",
    "        sizehint!(EdgeWeightsRight, length(EdgeWeights)÷2)\n",
    "\n",
    "        for EdgeWeight in EdgeWeights\n",
    "            if EdgeWeight[1] < pivot[1]\n",
    "                push!(EdgeWeightsLeft, EdgeWeight)\n",
    "            else\n",
    "                push!(EdgeWeightsRight, EdgeWeight)\n",
    "            end\n",
    "        end\n",
    "        \n",
    "#         pmap(x->(x[1]<pivot[1]) ? push!(EdgeWeightsLeft, x) : push!(EdgeWeightsRight, x), EdgeWeights)\n",
    "#         println(\"pivot = \",pivot)\n",
    "#         println(\"left = \",length(EdgeWeightsLeft))\n",
    "#         println(\"right = \",length(EdgeWeightsRight))\n",
    "#         println(\"Partition \",length(EdgeWeightsLeft),\" \",length(EdgeWeightsRight) ,\" going to start at \", CPUtime_us())\n",
    "        leftMST = filterKruskal(EdgeWeightsLeft, MST, UF)\n",
    "        FilteredEdgeWeightsRight = filter(EdgeWeightsRight, UF)\n",
    "        rightMST = filterKruskal(FilteredEdgeWeightsRight, MST, UF)\n",
    "        # println(\"Partition \",length(EdgeWeightsLeft),\" \",length(EdgeWeightsRight) ,\" allocated at \", CPUtime_us())\n",
    "        res = (leftMST) + (rightMST)\n",
    "        # println(\"Partition \",length(EdgeWeightsLeft),\" \",length(EdgeWeightsRight) ,\" finished at \", CPUtime_us())\n",
    "        return res\n",
    "    end\n",
    "end"
   ]
  },
  {
   "cell_type": "code",
   "execution_count": 33,
   "metadata": {},
   "outputs": [
    {
     "data": {
      "text/plain": [
       "kruskalThreshold (generic function with 1 method)"
      ]
     },
     "execution_count": 33,
     "metadata": {},
     "output_type": "execute_result"
    }
   ],
   "source": [
    "Base.@pure function kruskalThreshold(EdgesLength, MSTLength)\n",
    "    sp = Random.Sampler(rng, 1:EdgesLength) # or Random.Sampler(MersenneTwister, 1:20)\n",
    "#     return EdgesLength <=10000\n",
    "    return EdgesLength/1.25<=rand(rng, sp) || EdgesLength <=1000\n",
    "end"
   ]
  },
  {
   "cell_type": "code",
   "execution_count": 34,
   "metadata": {},
   "outputs": [
    {
     "data": {
      "text/plain": [
       "filter (generic function with 1 method)"
      ]
     },
     "execution_count": 34,
     "metadata": {},
     "output_type": "execute_result"
    }
   ],
   "source": [
    "Base.@pure function filter(EdgeWeights, UF)\n",
    "    FilteredEdgeWeights = Vector{}()\n",
    "    for EdgeWeight in EdgeWeights\n",
    "        if !in_same_set(UF, EdgeWeight[2].src, EdgeWeight[2].dst)\n",
    "            push!(FilteredEdgeWeights, EdgeWeight)\n",
    "        end\n",
    "    end\n",
    "    return FilteredEdgeWeights\n",
    "end"
   ]
  },
  {
   "cell_type": "code",
   "execution_count": 40,
   "metadata": {},
   "outputs": [
    {
     "name": "stdout",
     "output_type": "stream",
     "text": [
      "elapsed CPU time: 14.057086 seconds\n",
      " 14.579658 seconds (70.69 M allocations: 1.708 GiB, 12.42% gc time)\n"
     ]
    },
    {
     "data": {
      "text/plain": [
       "5996149158"
      ]
     },
     "execution_count": 40,
     "metadata": {},
     "output_type": "execute_result"
    }
   ],
   "source": [
    "@time @CPUtime filterKruskal(weights, mst, uf)"
   ]
  },
  {
   "cell_type": "code",
   "execution_count": 21,
   "metadata": {},
   "outputs": [
    {
     "name": "stdout",
     "output_type": "stream",
     "text": [
      "elapsed CPU time: 13.178604 seconds\n",
      " 13.544814 seconds (70.69 M allocations: 1.708 GiB, 12.08% gc time)\n"
     ]
    },
    {
     "data": {
      "text/plain": [
       "5996149158"
      ]
     },
     "execution_count": 21,
     "metadata": {},
     "output_type": "execute_result"
    }
   ],
   "source": [
    "@time @CPUtime kruskal(weights, mst, uf)\n"
   ]
  },
  {
   "cell_type": "code",
   "execution_count": null,
   "metadata": {},
   "outputs": [],
   "source": [
    "Threads.nthreads()"
   ]
  },
  {
   "cell_type": "code",
   "execution_count": null,
   "metadata": {},
   "outputs": [],
   "source": []
  },
  {
   "cell_type": "code",
   "execution_count": null,
   "metadata": {},
   "outputs": [],
   "source": []
  },
  {
   "cell_type": "code",
   "execution_count": null,
   "metadata": {},
   "outputs": [],
   "source": []
  },
  {
   "cell_type": "code",
   "execution_count": null,
   "metadata": {},
   "outputs": [],
   "source": []
  }
 ],
 "metadata": {
  "kernelspec": {
   "display_name": "Julia 1.3.1",
   "language": "julia",
   "name": "julia-1.3"
  },
  "language_info": {
   "file_extension": ".jl",
   "mimetype": "application/julia",
   "name": "julia",
   "version": "1.3.1"
  }
 },
 "nbformat": 4,
 "nbformat_minor": 4
}

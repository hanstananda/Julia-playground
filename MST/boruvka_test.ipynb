{
 "cells": [
  {
   "cell_type": "code",
   "execution_count": 2,
   "metadata": {},
   "outputs": [],
   "source": [
    "using Distributed\n",
    "using CPUTime\n",
    "using DelimitedFiles"
   ]
  },
  {
   "cell_type": "code",
   "execution_count": 3,
   "metadata": {},
   "outputs": [
    {
     "data": {
      "text/plain": [
       "3"
      ]
     },
     "execution_count": 3,
     "metadata": {},
     "output_type": "execute_result"
    }
   ],
   "source": [
    "addprocs(2)\n",
    "nprocs()"
   ]
  },
  {
   "cell_type": "code",
   "execution_count": 4,
   "metadata": {},
   "outputs": [],
   "source": [
    "@everywhere using Base\n",
    "@everywhere using DataStructures\n",
    "using SharedArrays"
   ]
  },
  {
   "cell_type": "code",
   "execution_count": 6,
   "metadata": {},
   "outputs": [],
   "source": [
    "numVertex=4\n",
    "Edges = [(4,1,2), (1,2,1), (2,3,1), (3,4,1), (4,2,3), (1,3,5)]\n",
    "AdjList = [Vector{}() for _ in 1:numVertex]\n",
    "for ln in Edges\n",
    "    push!(AdjList[ln[1]], (ln[1], ln[2],ln[3]))\n",
    "    push!(AdjList[ln[2]], (ln[2], ln[1],ln[3]))\n",
    "end\n"
   ]
  },
  {
   "cell_type": "code",
   "execution_count": 8,
   "metadata": {},
   "outputs": [],
   "source": [
    "\n",
    "function readDataFromFile(filename=\"in7.txt\")\n",
    "    open(filename, \"r\") do f \n",
    "        n, m = split(readline(f))\n",
    "        n = parse(Int, n)\n",
    "        AdjList = [Vector{}() for _ in 1:n]\n",
    "#         println(n,\" \",m)\n",
    "        for ln in eachline(f)\n",
    "#             a,b,c = split(ln)\n",
    "            a,b,c = readdlm(IOBuffer(ln), Int)\n",
    "            if(a==0)\n",
    "                a=n\n",
    "            end\n",
    "            if(b==0)\n",
    "                b=n\n",
    "            end\n",
    "            push!(AdjList[a], (a,b,c))\n",
    "            push!(AdjList[b], (b,a,c))\n",
    "#             println(a,\" \",b,\" \",c)\n",
    "        end\n",
    "        return n, AdjList\n",
    "    end\n",
    "end\n",
    "numVertex, AdjList = readDataFromFile();"
   ]
  },
  {
   "cell_type": "code",
   "execution_count": 18,
   "metadata": {},
   "outputs": [
    {
     "data": {
      "text/plain": [
       "IntDisjointSets([1, 2, 3, 4, 5, 6, 7, 8, 9, 10  …  9996, 9997, 9998, 9999, 10000, 10001, 10002, 10003, 10004, 10005], [0, 0, 0, 0, 0, 0, 0, 0, 0, 0  …  0, 0, 0, 0, 0, 0, 0, 0, 0, 0], 10005)"
      ]
     },
     "execution_count": 18,
     "metadata": {},
     "output_type": "execute_result"
    }
   ],
   "source": [
    "uf = IntDisjointSets(numVertex+5)\n"
   ]
  },
  {
   "cell_type": "code",
   "execution_count": 19,
   "metadata": {
    "scrolled": true
   },
   "outputs": [],
   "source": [
    "MAX_INT=2000000000\n",
    "minCost = SharedArray{Int}(numVertex);\n",
    "minNodeTgt = SharedArray{Int}(numVertex);\n",
    "minNodeSrc = SharedArray{Int}(numVertex);"
   ]
  },
  {
   "cell_type": "code",
   "execution_count": 20,
   "metadata": {},
   "outputs": [
    {
     "data": {
      "text/plain": [
       "0-element Array{Any,1}"
      ]
     },
     "execution_count": 20,
     "metadata": {},
     "output_type": "execute_result"
    }
   ],
   "source": [
    "mst= Vector{}()\n",
    "sizehint!(mst, numVertex)\n"
   ]
  },
  {
   "cell_type": "code",
   "execution_count": 21,
   "metadata": {},
   "outputs": [
    {
     "data": {
      "text/plain": [
       "initMinCostArray (generic function with 1 method)"
      ]
     },
     "execution_count": 21,
     "metadata": {},
     "output_type": "execute_result"
    }
   ],
   "source": [
    "function initMinCostArray()\n",
    "    for i = 1:numVertex\n",
    "        minCost[i] = MAX_INT\n",
    "        minNodeTgt[i] = i\n",
    "        minNodeSrc[i] = i\n",
    "    end\n",
    "end"
   ]
  },
  {
   "cell_type": "code",
   "execution_count": 22,
   "metadata": {},
   "outputs": [
    {
     "data": {
      "text/plain": [
       "findMinCostVertex (generic function with 1 method)"
      ]
     },
     "execution_count": 22,
     "metadata": {},
     "output_type": "execute_result"
    }
   ],
   "source": [
    "function findMinCostVertex(AdjList)\n",
    "#     for i in 1:length(AdjList)\n",
    "    @sync @distributed for i in 1:length(AdjList)\n",
    "        for j in AdjList[i]\n",
    "#             println(i,\" -> \", j[1], \"=\", j[2], \" \",  !in_same_set(uf, i, j[1])  )\n",
    "            set1 = find_root(uf, j[1])\n",
    "            set2 = find_root(uf, j[2])\n",
    "            if set1 != set2\n",
    "                if(minCost[set1] > j[3] )\n",
    "                    minCost[set1] = j[3]\n",
    "                    minNodeTgt[set1] = j[2]\n",
    "                    minNodeSrc[set1] = j[1]\n",
    "                end\n",
    "            end\n",
    "        end\n",
    "    end\n",
    "end"
   ]
  },
  {
   "cell_type": "code",
   "execution_count": 23,
   "metadata": {},
   "outputs": [
    {
     "data": {
      "text/plain": [
       "0-element Array{Any,1}"
      ]
     },
     "execution_count": 23,
     "metadata": {},
     "output_type": "execute_result"
    }
   ],
   "source": [
    "res = 0 \n",
    "mst = Vector{}()"
   ]
  },
  {
   "cell_type": "code",
   "execution_count": 24,
   "metadata": {},
   "outputs": [
    {
     "data": {
      "text/plain": [
       "contractVertexAndMergeAdjList (generic function with 1 method)"
      ]
     },
     "execution_count": 24,
     "metadata": {},
     "output_type": "execute_result"
    }
   ],
   "source": [
    "function contractVertexAndMergeAdjList(AdjList)\n",
    "    for i in 1:numVertex\n",
    "        if(minCost[i]!= MAX_INT && !in_same_set(uf, minNodeSrc[i], minNodeTgt[i]))\n",
    "            # Connect the vertices, add mst to answer\n",
    "            set1 = find_root(uf, minNodeSrc[i])\n",
    "            set2 = find_root(uf, minNodeTgt[i])\n",
    "            union!(uf, minNodeSrc[i], minNodeTgt[i])\n",
    "            global res+=minCost[i]\n",
    "            push!(mst, (minNodeSrc[i], minNodeTgt[i], minCost[i]))\n",
    "            # Merge AdjList \n",
    "            len1 = length(AdjList[set1])\n",
    "            len2 = length(AdjList[set2])\n",
    "            if (len1> len2)\n",
    "                for j in AdjList[set2]\n",
    "                    push!(AdjList[set1],j)\n",
    "                end\n",
    "                AdjList[set2] = Vector{}()\n",
    "            else\n",
    "                for j in AdjList[set1]\n",
    "                    push!(AdjList[set2],j)\n",
    "                    AdjList[set1] = Vector{}()\n",
    "                end\n",
    "            end\n",
    "        end\n",
    "    end\n",
    "    return AdjList\n",
    "end"
   ]
  },
  {
   "cell_type": "code",
   "execution_count": 25,
   "metadata": {},
   "outputs": [
    {
     "data": {
      "text/plain": [
       "boruvka_MST (generic function with 2 methods)"
      ]
     },
     "execution_count": 25,
     "metadata": {},
     "output_type": "execute_result"
    }
   ],
   "source": [
    "function boruvka_MST(AdjList, maxItr = convert(Int64, round(log2(numVertex)+1, digits=0)))\n",
    "    i=1\n",
    "    println(\"Max iteration: \", maxItr)\n",
    "    while(i<maxItr && length(mst)< numVertex-1)\n",
    "        i+=1\n",
    "        println(i, \" \", length(mst))\n",
    "        initMinCostArray()\n",
    "        findMinCostVertex(AdjList)\n",
    "        AdjList = contractVertexAndMergeAdjList(AdjList)\n",
    "        # println(res)\n",
    "        # println(length(mst))\n",
    "    end\n",
    "end"
   ]
  },
  {
   "cell_type": "code",
   "execution_count": 26,
   "metadata": {
    "scrolled": true
   },
   "outputs": [
    {
     "name": "stdout",
     "output_type": "stream",
     "text": [
      "Max iteration: 14\n",
      "2 0\n",
      "3 7491\n",
      "4 7491\n",
      "5 7491\n",
      "6 7491\n",
      "7 7491\n",
      "8 7491\n",
      "9 7491\n",
      "10 7491\n",
      "11 7491\n",
      "12 7491\n",
      "13 7491\n",
      "14 7491\n",
      "elapsed CPU time: 3.025467 seconds\n",
      "  5.498324 seconds (18.80 M allocations: 446.772 MiB, 4.54% gc time)\n"
     ]
    }
   ],
   "source": [
    "@time @CPUtime boruvka_MST(AdjList)\n"
   ]
  },
  {
   "cell_type": "code",
   "execution_count": null,
   "metadata": {},
   "outputs": [],
   "source": [
    "res"
   ]
  },
  {
   "cell_type": "code",
   "execution_count": null,
   "metadata": {},
   "outputs": [],
   "source": [
    "println(length(mst))"
   ]
  },
  {
   "cell_type": "code",
   "execution_count": null,
   "metadata": {},
   "outputs": [],
   "source": []
  },
  {
   "cell_type": "code",
   "execution_count": null,
   "metadata": {},
   "outputs": [],
   "source": []
  }
 ],
 "metadata": {
  "kernelspec": {
   "display_name": "Julia 1.3.1",
   "language": "julia",
   "name": "julia-1.3"
  },
  "language_info": {
   "file_extension": ".jl",
   "mimetype": "application/julia",
   "name": "julia",
   "version": "1.3.1"
  }
 },
 "nbformat": 4,
 "nbformat_minor": 4
}
